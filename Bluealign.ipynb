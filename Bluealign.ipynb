{
  "nbformat": 4,
  "nbformat_minor": 0,
  "metadata": {
    "colab": {
      "name": "Bluealign",
      "provenance": [],
      "authorship_tag": "ABX9TyMsncLK6jbLliwZ6299vf27",
      "include_colab_link": true
    },
    "kernelspec": {
      "name": "python3",
      "display_name": "Python 3"
    },
    "language_info": {
      "name": "python"
    }
  },
  "cells": [
    {
      "cell_type": "markdown",
      "metadata": {
        "id": "view-in-github",
        "colab_type": "text"
      },
      "source": [
        "<a href=\"https://colab.research.google.com/github/quocthang0507/VietnameseNaturalLanguageProcessing/blob/main/Bluealign.ipynb\" target=\"_parent\"><img src=\"https://colab.research.google.com/assets/colab-badge.svg\" alt=\"Open In Colab\"/></a>"
      ]
    },
    {
      "cell_type": "code",
      "metadata": {
        "colab": {
          "base_uri": "https://localhost:8080/"
        },
        "id": "df6ybMNyWMbl",
        "outputId": "482f7eec-3088-4a35-bbc3-251ac33e7c2a"
      },
      "source": [
        "!pip install git+https://github.com/rsennrich/Bleualign.git"
      ],
      "execution_count": 1,
      "outputs": [
        {
          "output_type": "stream",
          "text": [
            "Collecting git+https://github.com/rsennrich/Bleualign.git\n",
            "  Cloning https://github.com/rsennrich/Bleualign.git to /tmp/pip-req-build-9emj6jdy\n",
            "  Running command git clone -q https://github.com/rsennrich/Bleualign.git /tmp/pip-req-build-9emj6jdy\n",
            "Building wheels for collected packages: bleualign\n",
            "  Building wheel for bleualign (setup.py) ... \u001b[?25l\u001b[?25hdone\n",
            "  Created wheel for bleualign: filename=bleualign-0.1.1-py3-none-any.whl size=28489 sha256=971427f2ed48833fc31f9147dbdf0405eb90d3042f61ab8b627221dc5ec87212\n",
            "  Stored in directory: /tmp/pip-ephem-wheel-cache-uao8ftib/wheels/ec/92/8b/e45058a747e51137bbfd70d7086ef0cc8a2a30726d2adeb286\n",
            "Successfully built bleualign\n",
            "Installing collected packages: bleualign\n",
            "Successfully installed bleualign-0.1.1\n"
          ],
          "name": "stdout"
        }
      ]
    },
    {
      "cell_type": "code",
      "metadata": {
        "id": "gjI9_HRCWhdJ"
      },
      "source": [
        "from bleualign.align import Aligner"
      ],
      "execution_count": 2,
      "outputs": []
    },
    {
      "cell_type": "code",
      "metadata": {
        "colab": {
          "base_uri": "https://localhost:8080/"
        },
        "id": "3cNCpJ2Oazcf",
        "outputId": "ec41467d-9ccd-41a2-81bf-c857ca56dfb9"
      },
      "source": [
        "!wget https://github.com/rsennrich/Bleualign/raw/master/eval/eval1957.de\n",
        "!wget https://github.com/rsennrich/Bleualign/raw/master/eval/eval1957.fr\n",
        "!wget https://github.com/rsennrich/Bleualign/raw/master/eval/eval1957.europarlfull.fr"
      ],
      "execution_count": 3,
      "outputs": [
        {
          "output_type": "stream",
          "text": [
            "--2021-08-21 06:36:52--  https://github.com/rsennrich/Bleualign/raw/master/eval/eval1957.de\n",
            "Resolving github.com (github.com)... 140.82.121.4\n",
            "Connecting to github.com (github.com)|140.82.121.4|:443... connected.\n",
            "HTTP request sent, awaiting response... 302 Found\n",
            "Location: https://raw.githubusercontent.com/rsennrich/Bleualign/master/eval/eval1957.de [following]\n",
            "--2021-08-21 06:36:52--  https://raw.githubusercontent.com/rsennrich/Bleualign/master/eval/eval1957.de\n",
            "Resolving raw.githubusercontent.com (raw.githubusercontent.com)... 185.199.108.133, 185.199.109.133, 185.199.110.133, ...\n",
            "Connecting to raw.githubusercontent.com (raw.githubusercontent.com)|185.199.108.133|:443... connected.\n",
            "HTTP request sent, awaiting response... 200 OK\n",
            "Length: 58150 (57K) [text/plain]\n",
            "Saving to: ‘eval1957.de’\n",
            "\n",
            "eval1957.de         100%[===================>]  56.79K  --.-KB/s    in 0.004s  \n",
            "\n",
            "2021-08-21 06:36:52 (14.1 MB/s) - ‘eval1957.de’ saved [58150/58150]\n",
            "\n",
            "--2021-08-21 06:36:52--  https://github.com/rsennrich/Bleualign/raw/master/eval/eval1957.fr\n",
            "Resolving github.com (github.com)... 140.82.121.4\n",
            "Connecting to github.com (github.com)|140.82.121.4|:443... connected.\n",
            "HTTP request sent, awaiting response... 302 Found\n",
            "Location: https://raw.githubusercontent.com/rsennrich/Bleualign/master/eval/eval1957.fr [following]\n",
            "--2021-08-21 06:36:52--  https://raw.githubusercontent.com/rsennrich/Bleualign/master/eval/eval1957.fr\n",
            "Resolving raw.githubusercontent.com (raw.githubusercontent.com)... 185.199.108.133, 185.199.109.133, 185.199.110.133, ...\n",
            "Connecting to raw.githubusercontent.com (raw.githubusercontent.com)|185.199.108.133|:443... connected.\n",
            "HTTP request sent, awaiting response... 200 OK\n",
            "Length: 61219 (60K) [text/plain]\n",
            "Saving to: ‘eval1957.fr’\n",
            "\n",
            "eval1957.fr         100%[===================>]  59.78K  --.-KB/s    in 0.004s  \n",
            "\n",
            "2021-08-21 06:36:53 (15.7 MB/s) - ‘eval1957.fr’ saved [61219/61219]\n",
            "\n",
            "--2021-08-21 06:36:53--  https://github.com/rsennrich/Bleualign/raw/master/eval/eval1957.europarlfull.fr\n",
            "Resolving github.com (github.com)... 140.82.121.4\n",
            "Connecting to github.com (github.com)|140.82.121.4|:443... connected.\n",
            "HTTP request sent, awaiting response... 302 Found\n",
            "Location: https://raw.githubusercontent.com/rsennrich/Bleualign/master/eval/eval1957.europarlfull.fr [following]\n",
            "--2021-08-21 06:36:53--  https://raw.githubusercontent.com/rsennrich/Bleualign/master/eval/eval1957.europarlfull.fr\n",
            "Resolving raw.githubusercontent.com (raw.githubusercontent.com)... 185.199.108.133, 185.199.109.133, 185.199.110.133, ...\n",
            "Connecting to raw.githubusercontent.com (raw.githubusercontent.com)|185.199.108.133|:443... connected.\n",
            "HTTP request sent, awaiting response... 200 OK\n",
            "Length: 58424 (57K) [text/plain]\n",
            "Saving to: ‘eval1957.europarlfull.fr’\n",
            "\n",
            "eval1957.europarlfu 100%[===================>]  57.05K  --.-KB/s    in 0.004s  \n",
            "\n",
            "2021-08-21 06:36:53 (14.3 MB/s) - ‘eval1957.europarlfull.fr’ saved [58424/58424]\n",
            "\n"
          ],
          "name": "stdout"
        }
      ]
    },
    {
      "cell_type": "code",
      "metadata": {
        "id": "cq6RehWSWnmZ"
      },
      "source": [
        "src_file = r'/content/eval1957.de'\n",
        "target_file = r'/content/eval1957.fr'\n",
        "src_to_target = r'/content/eval1957.europarlfull.fr'\n",
        "output_src_file = r'output_src.txt'\n",
        "output_target_file = r'output_tgt.txt'"
      ],
      "execution_count": 4,
      "outputs": []
    },
    {
      "cell_type": "code",
      "metadata": {
        "id": "ciyutjUgeCC3"
      },
      "source": [
        "options = {\n",
        "    'srcfile': src_file,\n",
        "    'targetfile': target_file,\n",
        "    'srctotarget': [src_to_target],\n",
        "    'output-src': output_src_file,\n",
        "    'output-target': output_target_file\n",
        "}"
      ],
      "execution_count": 16,
      "outputs": []
    },
    {
      "cell_type": "code",
      "metadata": {
        "colab": {
          "base_uri": "https://localhost:8080/"
        },
        "id": "eaP1kY9ueLJ4",
        "outputId": "986adb8b-b5a9-49e6-fb65-55edafbac6b2"
      },
      "source": [
        "aligner = Aligner(options)\n",
        "aligner.mainloop()"
      ],
      "execution_count": 17,
      "outputs": [
        {
          "output_type": "stream",
          "text": [
            "reading in article 0: \n",
            "processing\n",
            "computing alignment between srctotarget (file 0) and target text\n",
            "Evaluating sentences with bleu\n",
            "finished\n",
            "searching for longest path of good alignments\n",
            "finished\n",
            "filling gaps\n",
            "finished\n",
            "\n",
            "finished with article\n",
            "\n",
            "====================\n",
            "\n"
          ],
          "name": "stdout"
        },
        {
          "output_type": "execute_result",
          "data": {
            "text/plain": [
              "(<_io.TextIOWrapper name='output_src.txt' mode='w' encoding='UTF-8'>,\n",
              " <_io.TextIOWrapper name='output_tgt.txt' mode='w' encoding='UTF-8'>)"
            ]
          },
          "metadata": {},
          "execution_count": 17
        }
      ]
    }
  ]
}