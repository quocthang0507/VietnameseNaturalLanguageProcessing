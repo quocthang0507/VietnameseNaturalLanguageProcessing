{
  "nbformat": 4,
  "nbformat_minor": 0,
  "metadata": {
    "colab": {
      "name": "Fast_align",
      "provenance": [],
      "collapsed_sections": [],
      "authorship_tag": "ABX9TyN/kpAymczGThCkzhDKwtJp",
      "include_colab_link": true
    },
    "kernelspec": {
      "name": "python3",
      "display_name": "Python 3"
    },
    "language_info": {
      "name": "python"
    }
  },
  "cells": [
    {
      "cell_type": "markdown",
      "metadata": {
        "id": "view-in-github",
        "colab_type": "text"
      },
      "source": [
        "<a href=\"https://colab.research.google.com/github/quocthang0507/VietnameseNaturalLanguageProcessing/blob/main/Fast_align.ipynb\" target=\"_parent\"><img src=\"https://colab.research.google.com/assets/colab-badge.svg\" alt=\"Open In Colab\"/></a>"
      ]
    },
    {
      "cell_type": "markdown",
      "metadata": {
        "id": "eQK7rpwuZlZN"
      },
      "source": [
        "Github repo: https://github.com/clab/fast_align/blob/master/README.md\n",
        "\n",
        "Citation:\n",
        "\n",
        "> [Chris Dyer](http://www.cs.cmu.edu/~cdyer), [Victor Chahuneau](http://victor.chahuneau.fr), and [Noah A. Smith](http://www.cs.cmu.edu/~nasmith). (2013). [A Simple, Fast, and Effective Reparameterization of IBM Model 2](http://www.ark.cs.cmu.edu/cdyer/fast_valign.pdf). In *Proc. of NAACL*."
      ]
    },
    {
      "cell_type": "code",
      "metadata": {
        "colab": {
          "base_uri": "https://localhost:8080/"
        },
        "id": "aF5NYa1SX2V0",
        "outputId": "fa694965-8513-4d71-fecf-cf6bc9c3122e"
      },
      "source": [
        "!sudo apt-get install libgoogle-perftools-dev libsparsehash-dev"
      ],
      "execution_count": 1,
      "outputs": [
        {
          "output_type": "stream",
          "name": "stdout",
          "text": [
            "Reading package lists... Done\n",
            "Building dependency tree       \n",
            "Reading state information... Done\n",
            "The following additional packages will be installed:\n",
            "  libunwind-dev\n",
            "The following NEW packages will be installed:\n",
            "  libgoogle-perftools-dev libsparsehash-dev libunwind-dev\n",
            "0 upgraded, 3 newly installed, 0 to remove and 40 not upgraded.\n",
            "Need to get 699 kB of archives.\n",
            "After this operation, 7,374 kB of additional disk space will be used.\n",
            "Get:1 http://archive.ubuntu.com/ubuntu bionic/main amd64 libunwind-dev amd64 1.2.1-8 [423 kB]\n",
            "Get:2 http://archive.ubuntu.com/ubuntu bionic/main amd64 libgoogle-perftools-dev amd64 2.5-2.2ubuntu3 [204 kB]\n",
            "Get:3 http://archive.ubuntu.com/ubuntu bionic/universe amd64 libsparsehash-dev all 2.0.2-1 [72.4 kB]\n",
            "Fetched 699 kB in 1s (718 kB/s)\n",
            "debconf: unable to initialize frontend: Dialog\n",
            "debconf: (No usable dialog-like program is installed, so the dialog based frontend cannot be used. at /usr/share/perl5/Debconf/FrontEnd/Dialog.pm line 76, <> line 3.)\n",
            "debconf: falling back to frontend: Readline\n",
            "debconf: unable to initialize frontend: Readline\n",
            "debconf: (This frontend requires a controlling tty.)\n",
            "debconf: falling back to frontend: Teletype\n",
            "dpkg-preconfigure: unable to re-open stdin: \n",
            "Selecting previously unselected package libunwind-dev:amd64.\n",
            "(Reading database ... 148492 files and directories currently installed.)\n",
            "Preparing to unpack .../libunwind-dev_1.2.1-8_amd64.deb ...\n",
            "Unpacking libunwind-dev:amd64 (1.2.1-8) ...\n",
            "Selecting previously unselected package libgoogle-perftools-dev.\n",
            "Preparing to unpack .../libgoogle-perftools-dev_2.5-2.2ubuntu3_amd64.deb ...\n",
            "Unpacking libgoogle-perftools-dev (2.5-2.2ubuntu3) ...\n",
            "Selecting previously unselected package libsparsehash-dev.\n",
            "Preparing to unpack .../libsparsehash-dev_2.0.2-1_all.deb ...\n",
            "Unpacking libsparsehash-dev (2.0.2-1) ...\n",
            "Setting up libsparsehash-dev (2.0.2-1) ...\n",
            "Setting up libunwind-dev:amd64 (1.2.1-8) ...\n",
            "Setting up libgoogle-perftools-dev (2.5-2.2ubuntu3) ...\n",
            "Processing triggers for man-db (2.8.3-2ubuntu0.1) ...\n"
          ]
        }
      ]
    },
    {
      "cell_type": "code",
      "metadata": {
        "colab": {
          "base_uri": "https://localhost:8080/"
        },
        "id": "AkRz_HdHS9kB",
        "outputId": "661bee55-1845-4922-eb5a-d6eeccf587ff"
      },
      "source": [
        "!git clone https://github.com/clab/fast_align.git"
      ],
      "execution_count": 2,
      "outputs": [
        {
          "output_type": "stream",
          "name": "stdout",
          "text": [
            "Cloning into 'fast_align'...\n",
            "remote: Enumerating objects: 213, done.\u001b[K\n",
            "remote: Counting objects: 100% (9/9), done.\u001b[K\n",
            "remote: Compressing objects: 100% (7/7), done.\u001b[K\n",
            "remote: Total 213 (delta 2), reused 4 (delta 2), pack-reused 204\u001b[K\n",
            "Receiving objects: 100% (213/213), 70.68 KiB | 3.07 MiB/s, done.\n",
            "Resolving deltas: 100% (110/110), done.\n"
          ]
        }
      ]
    },
    {
      "cell_type": "code",
      "metadata": {
        "colab": {
          "base_uri": "https://localhost:8080/"
        },
        "id": "TFJ_-h5TTai4",
        "outputId": "4894a6ca-9950-4a7a-d24d-7fef09af5425"
      },
      "source": [
        "%cd fast_align"
      ],
      "execution_count": 3,
      "outputs": [
        {
          "output_type": "stream",
          "name": "stdout",
          "text": [
            "/content/fast_align\n"
          ]
        }
      ]
    },
    {
      "cell_type": "code",
      "metadata": {
        "id": "6bgUnwK2Tf_Q"
      },
      "source": [
        "%mkdir build"
      ],
      "execution_count": 4,
      "outputs": []
    },
    {
      "cell_type": "code",
      "metadata": {
        "colab": {
          "base_uri": "https://localhost:8080/"
        },
        "id": "K_FFFZ5WTjy_",
        "outputId": "39927ea3-fc3b-4d15-f32b-a5948ff8fb62"
      },
      "source": [
        "%cd build\n",
        "!cmake ..\n",
        "!make"
      ],
      "execution_count": 5,
      "outputs": [
        {
          "output_type": "stream",
          "name": "stdout",
          "text": [
            "/content/fast_align/build\n",
            "-- The C compiler identification is GNU 7.5.0\n",
            "-- The CXX compiler identification is GNU 7.5.0\n",
            "-- Check for working C compiler: /usr/bin/cc\n",
            "-- Check for working C compiler: /usr/bin/cc -- works\n",
            "-- Detecting C compiler ABI info\n",
            "-- Detecting C compiler ABI info - done\n",
            "-- Detecting C compile features\n",
            "-- Detecting C compile features - done\n",
            "-- Check for working CXX compiler: /usr/bin/c++\n",
            "-- Check for working CXX compiler: /usr/bin/c++ -- works\n",
            "-- Detecting CXX compiler ABI info\n",
            "-- Detecting CXX compiler ABI info - done\n",
            "-- Detecting CXX compile features\n",
            "-- Detecting CXX compile features - done\n",
            "-- Found SparseHash: /usr/include  \n",
            "-- Configuring done\n",
            "-- Generating done\n",
            "-- Build files have been written to: /content/fast_align/build\n",
            "\u001b[35m\u001b[1mScanning dependencies of target atools\u001b[0m\n",
            "[ 16%] \u001b[32mBuilding CXX object CMakeFiles/atools.dir/src/alignment_io.cc.o\u001b[0m\n",
            "[ 33%] \u001b[32mBuilding CXX object CMakeFiles/atools.dir/src/atools.cc.o\u001b[0m\n",
            "[ 50%] \u001b[32m\u001b[1mLinking CXX executable atools\u001b[0m\n",
            "[ 50%] Built target atools\n",
            "\u001b[35m\u001b[1mScanning dependencies of target fast_align\u001b[0m\n",
            "[ 66%] \u001b[32mBuilding CXX object CMakeFiles/fast_align.dir/src/fast_align.cc.o\u001b[0m\n",
            "[ 83%] \u001b[32mBuilding CXX object CMakeFiles/fast_align.dir/src/ttables.cc.o\u001b[0m\n",
            "[100%] \u001b[32m\u001b[1mLinking CXX executable fast_align\u001b[0m\n",
            "[100%] Built target fast_align\n"
          ]
        }
      ]
    },
    {
      "cell_type": "code",
      "metadata": {
        "colab": {
          "base_uri": "https://localhost:8080/"
        },
        "id": "WxKvKRppTxOB",
        "outputId": "7b45461f-b454-4f29-ebe3-10de9539f60f"
      },
      "source": [
        "!wget https://raw.githubusercontent.com/quocthang0507/VietnameseKHoPreprocessing/master/vi-kho.src-tgt.txt"
      ],
      "execution_count": 6,
      "outputs": [
        {
          "output_type": "stream",
          "name": "stdout",
          "text": [
            "--2021-09-03 12:04:14--  https://raw.githubusercontent.com/quocthang0507/VietnameseKHoPreprocessing/master/vi-kho.src-tgt.txt\n",
            "Resolving raw.githubusercontent.com (raw.githubusercontent.com)... 185.199.108.133, 185.199.109.133, 185.199.110.133, ...\n",
            "Connecting to raw.githubusercontent.com (raw.githubusercontent.com)|185.199.108.133|:443... connected.\n",
            "HTTP request sent, awaiting response... 200 OK\n",
            "Length: 1393143 (1.3M) [text/plain]\n",
            "Saving to: ‘vi-kho.src-tgt.txt’\n",
            "\n",
            "\rvi-kho.src-tgt.txt    0%[                    ]       0  --.-KB/s               \rvi-kho.src-tgt.txt  100%[===================>]   1.33M  --.-KB/s    in 0.05s   \n",
            "\n",
            "2021-09-03 12:04:14 (24.5 MB/s) - ‘vi-kho.src-tgt.txt’ saved [1393143/1393143]\n",
            "\n"
          ]
        }
      ]
    },
    {
      "cell_type": "code",
      "metadata": {
        "colab": {
          "base_uri": "https://localhost:8080/"
        },
        "id": "jXpz9P-IYnp8",
        "outputId": "66105632-c053-4bcb-d06f-194543426fc8"
      },
      "source": [
        "%ls"
      ],
      "execution_count": 7,
      "outputs": [
        {
          "output_type": "stream",
          "name": "stdout",
          "text": [
            "\u001b[0m\u001b[01;32matools\u001b[0m*         \u001b[01;34mCMakeFiles\u001b[0m/          \u001b[01;32mfast_align\u001b[0m*      Makefile\n",
            "CMakeCache.txt  cmake_install.cmake  \u001b[01;32mforce_align.py\u001b[0m*  vi-kho.src-tgt.txt\n"
          ]
        }
      ]
    },
    {
      "cell_type": "code",
      "metadata": {
        "colab": {
          "base_uri": "https://localhost:8080/"
        },
        "id": "DIOGxhyvVTzQ",
        "outputId": "ef32d314-163c-4405-9d7b-8d3e7a370193"
      },
      "source": [
        "!./fast_align"
      ],
      "execution_count": 8,
      "outputs": [
        {
          "output_type": "stream",
          "name": "stdout",
          "text": [
            "Usage: ./fast_align -i file.fr-en\n",
            " Standard options ([USE] = strongly recommended):\n",
            "  -i: [REQ] Input parallel corpus\n",
            "  -v: [USE] Use Dirichlet prior on lexical translation distributions\n",
            "  -d: [USE] Favor alignment points close to the monotonic diagonoal\n",
            "  -o: [USE] Optimize how close to the diagonal alignment points should be\n",
            "  -r: Run alignment in reverse (condition on target and predict source)\n",
            "  -c: Output conditional probability table\n",
            " Advanced options:\n",
            "  -I: number of iterations in EM training (default = 5)\n",
            "  -q: p_null parameter (default = 0.08)\n",
            "  -N: No null word\n",
            "  -a: alpha parameter for optional Dirichlet prior (default = 0.01)\n",
            "  -T: starting lambda for diagonal distance parameter (default = 4)\n",
            "  -s: print alignment scores (alignment ||| score, disabled by default)\n"
          ]
        }
      ]
    },
    {
      "cell_type": "code",
      "metadata": {
        "colab": {
          "base_uri": "https://localhost:8080/"
        },
        "id": "gahDUMY9VIi0",
        "outputId": "1aa826b7-b588-4ba4-fc64-3e5921e7282f"
      },
      "source": [
        "# coding=utf8\n",
        "!./fast_align -i vi-kho.src-tgt.txt -d -o -v > forward.align"
      ],
      "execution_count": 9,
      "outputs": [
        {
          "output_type": "stream",
          "name": "stdout",
          "text": [
            "ARG=i\n",
            "ARG=d\n",
            "ARG=o\n",
            "ARG=v\n",
            "INITIAL PASS \n",
            ".....\n",
            "expected target length = source length * 1.11687\n",
            "ITERATION 1\n",
            ".....\n",
            "  log_e likelihood: -2.58672e+06\n",
            "  log_2 likelihood: -3.73185e+06\n",
            "     cross entropy: 29.8974\n",
            "        perplexity: 1e+09\n",
            "      posterior p0: 0.08\n",
            " posterior al-feat: -0.169121\n",
            "       size counts: 1041\n",
            "ITERATION 2\n",
            ".....\n",
            "  log_e likelihood: -865081\n",
            "  log_2 likelihood: -1.24805e+06\n",
            "     cross entropy: 9.99863\n",
            "        perplexity: 1023.03\n",
            "      posterior p0: 0.112628\n",
            " posterior al-feat: -0.0911362\n",
            "       size counts: 1041\n",
            "  1  model al-feat: -0.160062 (tension=4)\n",
            "  2  model al-feat: -0.133936 (tension=5.37852)\n",
            "  3  model al-feat: -0.122056 (tension=6.23451)\n",
            "  4  model al-feat: -0.11551 (tension=6.85291)\n",
            "  5  model al-feat: -0.111657 (tension=7.34039)\n",
            "  6  model al-feat: -0.109437 (tension=7.75081)\n",
            "  7  model al-feat: -0.108388 (tension=8.11683)\n",
            "  8  model al-feat: -0.108363 (tension=8.46188)\n",
            "     final tension: 8.80642\n",
            "ITERATION 3\n",
            ".....\n",
            "  log_e likelihood: -540473\n",
            "  log_2 likelihood: -779738\n",
            "     cross entropy: 6.2468\n",
            "        perplexity: 75.9406\n",
            "      posterior p0: 0.0677732\n",
            " posterior al-feat: -0.0684135\n",
            "       size counts: 1041\n",
            "  1  model al-feat: -0.109476 (tension=8.80642)\n",
            "  2  model al-feat: -0.118515 (tension=9.62766)\n",
            "  3  model al-feat: -0.150405 (tension=10.6297)\n",
            "  4  model al-feat: -0.330416 (tension=12.2695)\n",
            "  5  model al-feat: -1.12011 (tension=14)\n",
            "  6  model al-feat: -1.12011 (tension=14)\n",
            "  7  model al-feat: -1.12011 (tension=14)\n",
            "  8  model al-feat: -1.12011 (tension=14)\n",
            "     final tension: 14\n",
            "ITERATION 4\n",
            ".....\n",
            "  log_e likelihood: -487340\n",
            "  log_2 likelihood: -703083\n",
            "     cross entropy: 5.63268\n",
            "        perplexity: 49.6142\n",
            "      posterior p0: 0.0625566\n",
            " posterior al-feat: -0.0610136\n",
            "       size counts: 1041\n",
            "  1  model al-feat: -1.12011 (tension=14)\n",
            "  2  model al-feat: -1.12011 (tension=14)\n",
            "  3  model al-feat: -1.12011 (tension=14)\n",
            "  4  model al-feat: -1.12011 (tension=14)\n",
            "  5  model al-feat: -1.12011 (tension=14)\n",
            "  6  model al-feat: -1.12011 (tension=14)\n",
            "  7  model al-feat: -1.12011 (tension=14)\n",
            "  8  model al-feat: -1.12011 (tension=14)\n",
            "     final tension: 14\n",
            "ITERATION 5 (FINAL)\n",
            ".....\n",
            "  log_e likelihood: -478961\n",
            "  log_2 likelihood: -690995\n",
            "     cross entropy: 5.53584\n",
            "        perplexity: 46.3932\n",
            "      posterior p0: 0\n",
            " posterior al-feat: 0\n",
            "       size counts: 1041\n"
          ]
        }
      ]
    }
  ]
}