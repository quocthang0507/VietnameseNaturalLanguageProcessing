{
  "nbformat": 4,
  "nbformat_minor": 0,
  "metadata": {
    "colab": {
      "name": "Bleualign",
      "provenance": [],
      "collapsed_sections": [],
      "authorship_tag": "ABX9TyPMB5CK4EIaIsoO/z0e8S0d",
      "include_colab_link": true
    },
    "kernelspec": {
      "name": "python3",
      "display_name": "Python 3"
    },
    "language_info": {
      "name": "python"
    }
  },
  "cells": [
    {
      "cell_type": "markdown",
      "metadata": {
        "id": "view-in-github",
        "colab_type": "text"
      },
      "source": [
        "<a href=\"https://colab.research.google.com/github/quocthang0507/VietnameseNaturalLanguageProcessing/blob/main/Bleualign.ipynb\" target=\"_parent\"><img src=\"https://colab.research.google.com/assets/colab-badge.svg\" alt=\"Open In Colab\"/></a>"
      ]
    },
    {
      "cell_type": "markdown",
      "metadata": {
        "id": "CPOpheHLHMWZ"
      },
      "source": [
        "Github repo: https://github.com/rsennrich/Bleualign\n",
        "\n",
        "Citation:\n",
        "\n",
        "> Rico Sennrich, Martin Volk (2010): MT-based Sentence Alignment for OCR-generated Parallel Texts. In: Proceedings of AMTA 2010, Denver, Colorado.\n",
        "\n",
        "> Rico Sennrich; Martin Volk (2011): Iterative, MT-based sentence alignment of parallel texts. In: NODALIDA 2011, Nordic Conference of Computational Linguistics, Riga."
      ]
    },
    {
      "cell_type": "code",
      "metadata": {
        "colab": {
          "base_uri": "https://localhost:8080/"
        },
        "id": "df6ybMNyWMbl",
        "outputId": "cc00fa9d-778c-4e5d-b1b5-ca684dcf659c"
      },
      "source": [
        "!pip install git+https://github.com/rsennrich/Bleualign.git"
      ],
      "execution_count": 1,
      "outputs": [
        {
          "output_type": "stream",
          "name": "stdout",
          "text": [
            "Collecting git+https://github.com/rsennrich/Bleualign.git\n",
            "  Cloning https://github.com/rsennrich/Bleualign.git to /tmp/pip-req-build-l68wj648\n",
            "  Running command git clone -q https://github.com/rsennrich/Bleualign.git /tmp/pip-req-build-l68wj648\n",
            "Building wheels for collected packages: bleualign\n",
            "  Building wheel for bleualign (setup.py) ... \u001b[?25l\u001b[?25hdone\n",
            "  Created wheel for bleualign: filename=bleualign-0.1.1-py3-none-any.whl size=28489 sha256=f852a8a7954d728634889d22f6bedc1289b62b6d5db12cdaa9225194def157e5\n",
            "  Stored in directory: /tmp/pip-ephem-wheel-cache-xo7sn85t/wheels/ec/92/8b/e45058a747e51137bbfd70d7086ef0cc8a2a30726d2adeb286\n",
            "Successfully built bleualign\n",
            "Installing collected packages: bleualign\n",
            "Successfully installed bleualign-0.1.1\n"
          ]
        }
      ]
    },
    {
      "cell_type": "code",
      "metadata": {
        "id": "gjI9_HRCWhdJ"
      },
      "source": [
        "from bleualign.align import Aligner"
      ],
      "execution_count": 2,
      "outputs": []
    },
    {
      "cell_type": "code",
      "metadata": {
        "colab": {
          "base_uri": "https://localhost:8080/"
        },
        "id": "3cNCpJ2Oazcf",
        "outputId": "fd9ee049-a376-4648-f6ec-6fd15668ee37"
      },
      "source": [
        "!wget https://github.com/rsennrich/Bleualign/raw/master/eval/eval1957.de\n",
        "!wget https://github.com/rsennrich/Bleualign/raw/master/eval/eval1957.fr\n",
        "!wget https://github.com/rsennrich/Bleualign/raw/master/eval/eval1957.europarlfull.fr"
      ],
      "execution_count": 3,
      "outputs": [
        {
          "output_type": "stream",
          "name": "stdout",
          "text": [
            "--2021-09-03 14:42:40--  https://github.com/rsennrich/Bleualign/raw/master/eval/eval1957.de\n",
            "Resolving github.com (github.com)... 140.82.114.3\n",
            "Connecting to github.com (github.com)|140.82.114.3|:443... connected.\n",
            "HTTP request sent, awaiting response... 302 Found\n",
            "Location: https://raw.githubusercontent.com/rsennrich/Bleualign/master/eval/eval1957.de [following]\n",
            "--2021-09-03 14:42:40--  https://raw.githubusercontent.com/rsennrich/Bleualign/master/eval/eval1957.de\n",
            "Resolving raw.githubusercontent.com (raw.githubusercontent.com)... 185.199.110.133, 185.199.108.133, 185.199.111.133, ...\n",
            "Connecting to raw.githubusercontent.com (raw.githubusercontent.com)|185.199.110.133|:443... connected.\n",
            "HTTP request sent, awaiting response... 200 OK\n",
            "Length: 58150 (57K) [text/plain]\n",
            "Saving to: ‘eval1957.de’\n",
            "\n",
            "eval1957.de         100%[===================>]  56.79K  --.-KB/s    in 0.009s  \n",
            "\n",
            "2021-09-03 14:42:41 (6.39 MB/s) - ‘eval1957.de’ saved [58150/58150]\n",
            "\n",
            "--2021-09-03 14:42:41--  https://github.com/rsennrich/Bleualign/raw/master/eval/eval1957.fr\n",
            "Resolving github.com (github.com)... 140.82.114.3\n",
            "Connecting to github.com (github.com)|140.82.114.3|:443... connected.\n",
            "HTTP request sent, awaiting response... 302 Found\n",
            "Location: https://raw.githubusercontent.com/rsennrich/Bleualign/master/eval/eval1957.fr [following]\n",
            "--2021-09-03 14:42:41--  https://raw.githubusercontent.com/rsennrich/Bleualign/master/eval/eval1957.fr\n",
            "Resolving raw.githubusercontent.com (raw.githubusercontent.com)... 185.199.108.133, 185.199.109.133, 185.199.110.133, ...\n",
            "Connecting to raw.githubusercontent.com (raw.githubusercontent.com)|185.199.108.133|:443... connected.\n",
            "HTTP request sent, awaiting response... 200 OK\n",
            "Length: 61219 (60K) [text/plain]\n",
            "Saving to: ‘eval1957.fr’\n",
            "\n",
            "eval1957.fr         100%[===================>]  59.78K  --.-KB/s    in 0.007s  \n",
            "\n",
            "2021-09-03 14:42:41 (7.93 MB/s) - ‘eval1957.fr’ saved [61219/61219]\n",
            "\n",
            "--2021-09-03 14:42:41--  https://github.com/rsennrich/Bleualign/raw/master/eval/eval1957.europarlfull.fr\n",
            "Resolving github.com (github.com)... 140.82.114.3\n",
            "Connecting to github.com (github.com)|140.82.114.3|:443... connected.\n",
            "HTTP request sent, awaiting response... 302 Found\n",
            "Location: https://raw.githubusercontent.com/rsennrich/Bleualign/master/eval/eval1957.europarlfull.fr [following]\n",
            "--2021-09-03 14:42:42--  https://raw.githubusercontent.com/rsennrich/Bleualign/master/eval/eval1957.europarlfull.fr\n",
            "Resolving raw.githubusercontent.com (raw.githubusercontent.com)... 185.199.108.133, 185.199.109.133, 185.199.110.133, ...\n",
            "Connecting to raw.githubusercontent.com (raw.githubusercontent.com)|185.199.108.133|:443... connected.\n",
            "HTTP request sent, awaiting response... 200 OK\n",
            "Length: 58424 (57K) [text/plain]\n",
            "Saving to: ‘eval1957.europarlfull.fr’\n",
            "\n",
            "eval1957.europarlfu 100%[===================>]  57.05K  --.-KB/s    in 0.009s  \n",
            "\n",
            "2021-09-03 14:42:42 (6.23 MB/s) - ‘eval1957.europarlfull.fr’ saved [58424/58424]\n",
            "\n"
          ]
        }
      ]
    },
    {
      "cell_type": "code",
      "metadata": {
        "id": "cq6RehWSWnmZ"
      },
      "source": [
        "src_file = r'/content/eval1957.de'\n",
        "target_file = r'/content/eval1957.fr'\n",
        "src_to_target = r'/content/eval1957.europarlfull.fr'\n",
        "output_src_file = r'output_src.txt'\n",
        "output_target_file = r'output_tgt.txt'"
      ],
      "execution_count": 4,
      "outputs": []
    },
    {
      "cell_type": "code",
      "metadata": {
        "id": "ciyutjUgeCC3"
      },
      "source": [
        "options = {\n",
        "    'srcfile': src_file,\n",
        "    'targetfile': target_file,\n",
        "    'srctotarget': [src_to_target],\n",
        "    'output-src': output_src_file,\n",
        "    'output-target': output_target_file\n",
        "}"
      ],
      "execution_count": 5,
      "outputs": []
    },
    {
      "cell_type": "code",
      "metadata": {
        "id": "eaP1kY9ueLJ4",
        "colab": {
          "base_uri": "https://localhost:8080/"
        },
        "outputId": "79060b85-69b3-43f8-8585-b71cf89086f9"
      },
      "source": [
        "aligner = Aligner(options)\n",
        "aligner.mainloop()"
      ],
      "execution_count": 6,
      "outputs": [
        {
          "output_type": "stream",
          "name": "stdout",
          "text": [
            "reading in article 0: \n",
            "processing\n",
            "computing alignment between srctotarget (file 0) and target text\n",
            "Evaluating sentences with bleu\n",
            "finished\n",
            "searching for longest path of good alignments\n",
            "finished\n",
            "filling gaps\n",
            "finished\n",
            "\n",
            "finished with article\n",
            "\n",
            "====================\n",
            "\n"
          ]
        },
        {
          "output_type": "execute_result",
          "data": {
            "text/plain": [
              "(<_io.TextIOWrapper name='output_src.txt' mode='w' encoding='UTF-8'>,\n",
              " <_io.TextIOWrapper name='output_tgt.txt' mode='w' encoding='UTF-8'>)"
            ]
          },
          "metadata": {},
          "execution_count": 6
        }
      ]
    }
  ]
}