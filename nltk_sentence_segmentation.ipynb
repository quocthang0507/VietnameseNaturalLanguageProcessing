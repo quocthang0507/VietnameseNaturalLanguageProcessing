{
  "nbformat": 4,
  "nbformat_minor": 0,
  "metadata": {
    "colab": {
      "name": "nltk",
      "provenance": [],
      "authorship_tag": "ABX9TyMROioJx05lq7TFFMCdp3Kd",
      "include_colab_link": true
    },
    "kernelspec": {
      "name": "python3",
      "display_name": "Python 3"
    },
    "language_info": {
      "name": "python"
    }
  },
  "cells": [
    {
      "cell_type": "markdown",
      "metadata": {
        "id": "view-in-github",
        "colab_type": "text"
      },
      "source": [
        "<a href=\"https://colab.research.google.com/github/quocthang0507/VietnameseNaturalLanguageProcessing/blob/main/nltk.ipynb\" target=\"_parent\"><img src=\"https://colab.research.google.com/assets/colab-badge.svg\" alt=\"Open In Colab\"/></a>"
      ]
    },
    {
      "cell_type": "code",
      "metadata": {
        "id": "t5XDg18fz01h"
      },
      "source": [
        "import nltk"
      ],
      "execution_count": 1,
      "outputs": []
    },
    {
      "cell_type": "code",
      "metadata": {
        "colab": {
          "base_uri": "https://localhost:8080/"
        },
        "id": "o5GkMTcE51-G",
        "outputId": "822d18d1-2350-457c-a599-cfc8f2187c1c"
      },
      "source": [
        "nltk.download('punkt')"
      ],
      "execution_count": 2,
      "outputs": [
        {
          "output_type": "stream",
          "name": "stdout",
          "text": [
            "[nltk_data] Downloading package punkt to /root/nltk_data...\n",
            "[nltk_data]   Unzipping tokenizers/punkt.zip.\n"
          ]
        },
        {
          "output_type": "execute_result",
          "data": {
            "text/plain": [
              "True"
            ]
          },
          "metadata": {},
          "execution_count": 2
        }
      ]
    },
    {
      "cell_type": "code",
      "metadata": {
        "id": "Hlf22iGB55hq"
      },
      "source": [
        "def nltk_sentence_tokenizer(text):\n",
        "    '''Tách đoạn văn thành các câu bằng nltk. Chưa tách được câu với dấu ...'''\n",
        "    if not text or not isinstance(text, str):\n",
        "        return ''\n",
        "    # Tách câu và loại bỏ ký tự trống ở đầu và cuối\n",
        "    return [sentence for sentence in nltk.tokenize.sent_tokenize(text)]"
      ],
      "execution_count": 5,
      "outputs": []
    },
    {
      "cell_type": "code",
      "metadata": {
        "id": "BCvBdwT15-Kb"
      },
      "source": [
        "def print_array(arr):\n",
        "    print('\\n'.join(arr))"
      ],
      "execution_count": 4,
      "outputs": []
    },
    {
      "cell_type": "code",
      "metadata": {
        "colab": {
          "base_uri": "https://localhost:8080/"
        },
        "id": "guL3YsQI6ETl",
        "outputId": "445b756f-4a6d-4d51-a5e9-e8d9140bcdf4"
      },
      "source": [
        "sent_1 = 'Nghề làm nồi đất là cách gọi chung để chỉ nghề làm các dụng cụ nhà bếp dùng trong sinh hoạt như cà ràng (bếp lò có 3 chân), nồi, chảo... Nguyên liệu là loại đất sét có tính kết dính cao, dễ đánh bóng và chịu được nhiệt độ cao. Để hoàn thành một sản phẩm, người thợ phải thực hiện nhiều công đoạn, từ nhào trộn đất, tạo hình, làm bóng, vẻ hoa văn.... Sau một tuần phơi khô, các sản phẩm được đưa vào nung, còn gọi là \"đốt nồi\". Người thợ xếp sản phẩm trên mật đất, chèn rơm hoặc cỏ khô, phía trên có một lớp củi tràm. Sản phẩm \"nặng lửa\" được đặt ở trung tâm, loại \"nhẹ lửa\" sắp xếp ở chung quanh để sản phẩm không bị \"sống\" hoặc \"chín\" quá. Người ta thường \"đốt nồi\" vào ban đêm đế tiện theo dõi lửa.'\n",
        "print_array(nltk_sentence_tokenizer(sent_1))"
      ],
      "execution_count": 6,
      "outputs": [
        {
          "output_type": "stream",
          "name": "stdout",
          "text": [
            "Nghề làm nồi đất là cách gọi chung để chỉ nghề làm các dụng cụ nhà bếp dùng trong sinh hoạt như cà ràng (bếp lò có 3 chân), nồi, chảo... Nguyên liệu là loại đất sét có tính kết dính cao, dễ đánh bóng và chịu được nhiệt độ cao.\n",
            "Để hoàn thành một sản phẩm, người thợ phải thực hiện nhiều công đoạn, từ nhào trộn đất, tạo hình, làm bóng, vẻ hoa văn.... Sau một tuần phơi khô, các sản phẩm được đưa vào nung, còn gọi là \"đốt nồi\".\n",
            "Người thợ xếp sản phẩm trên mật đất, chèn rơm hoặc cỏ khô, phía trên có một lớp củi tràm.\n",
            "Sản phẩm \"nặng lửa\" được đặt ở trung tâm, loại \"nhẹ lửa\" sắp xếp ở chung quanh để sản phẩm không bị \"sống\" hoặc \"chín\" quá.\n",
            "Người ta thường \"đốt nồi\" vào ban đêm đế tiện theo dõi lửa.\n"
          ]
        }
      ]
    }
  ]
}
