{
  "nbformat": 4,
  "nbformat_minor": 0,
  "metadata": {
    "colab": {
      "name": "nltk sentence segmentation",
      "provenance": [],
      "authorship_tag": "ABX9TyPMcOl2PeeG6IWLwnq3FJK0",
      "include_colab_link": true
    },
    "kernelspec": {
      "name": "python3",
      "display_name": "Python 3"
    },
    "language_info": {
      "name": "python"
    }
  },
  "cells": [
    {
      "cell_type": "markdown",
      "metadata": {
        "id": "view-in-github",
        "colab_type": "text"
      },
      "source": [
        "<a href=\"https://colab.research.google.com/github/quocthang0507/VietnameseNaturalLanguageProcessing/blob/main/nltk_sentence_segmentation.ipynb\" target=\"_parent\"><img src=\"https://colab.research.google.com/assets/colab-badge.svg\" alt=\"Open In Colab\"/></a>"
      ]
    },
    {
      "cell_type": "code",
      "metadata": {
        "id": "t5XDg18fz01h"
      },
      "source": [
        "import nltk"
      ],
      "execution_count": 1,
      "outputs": []
    },
    {
      "cell_type": "code",
      "metadata": {
        "colab": {
          "base_uri": "https://localhost:8080/"
        },
        "id": "o5GkMTcE51-G",
        "outputId": "193ed259-41e5-49ca-83d1-c0000fb73027"
      },
      "source": [
        "nltk.download('punkt')"
      ],
      "execution_count": 2,
      "outputs": [
        {
          "output_type": "stream",
          "name": "stdout",
          "text": [
            "[nltk_data] Downloading package punkt to /root/nltk_data...\n",
            "[nltk_data]   Unzipping tokenizers/punkt.zip.\n"
          ]
        },
        {
          "output_type": "execute_result",
          "data": {
            "text/plain": [
              "True"
            ]
          },
          "metadata": {},
          "execution_count": 2
        }
      ]
    },
    {
      "cell_type": "code",
      "metadata": {
        "id": "Hlf22iGB55hq"
      },
      "source": [
        "def nltk_sentence_tokenizer(text):\n",
        "    '''Tách đoạn văn thành các câu bằng nltk. Chưa tách được câu với dấu ...'''\n",
        "    if not text or not isinstance(text, str):\n",
        "        return ''\n",
        "    # Tách câu và loại bỏ ký tự trống ở đầu và cuối\n",
        "    return [sentence for sentence in nltk.tokenize.sent_tokenize(text)]"
      ],
      "execution_count": 3,
      "outputs": []
    },
    {
      "cell_type": "code",
      "metadata": {
        "id": "BCvBdwT15-Kb"
      },
      "source": [
        "def print_array(arr):\n",
        "    for i, s in enumerate(arr):\n",
        "        print(f'{i+1}. {s}')"
      ],
      "execution_count": 4,
      "outputs": []
    },
    {
      "cell_type": "code",
      "metadata": {
        "colab": {
          "base_uri": "https://localhost:8080/"
        },
        "id": "guL3YsQI6ETl",
        "outputId": "af6eb817-a0b3-4b0b-ab67-5f7c0a4b53f1"
      },
      "source": [
        "sent_1 = 'Nghề làm nồi đất là cách gọi chung để chỉ nghề làm các dụng cụ nhà bếp dùng trong sinh hoạt như cà ràng (bếp lò có 3 chân), nồi, chảo... Nguyên liệu là loại đất sét có tính kết dính cao, dễ đánh bóng và chịu được nhiệt độ cao. Để hoàn thành một sản phẩm, người thợ phải thực hiện nhiều công đoạn, từ nhào trộn đất, tạo hình, làm bóng, vẻ hoa văn.... Sau một tuần phơi khô, các sản phẩm được đưa vào nung, còn gọi là \"đốt nồi\". Người thợ xếp sản phẩm trên mật đất, chèn rơm hoặc cỏ khô, phía trên có một lớp củi tràm. Sản phẩm \"nặng lửa\" được đặt ở trung tâm, loại \"nhẹ lửa\" sắp xếp ở chung quanh để sản phẩm không bị \"sống\" hoặc \"chín\" quá. Người ta thường \"đốt nồi\" vào ban đêm đế tiện theo dõi lửa.'\n",
        "print_array(nltk_sentence_tokenizer(sent_1))"
      ],
      "execution_count": 5,
      "outputs": [
        {
          "output_type": "stream",
          "name": "stdout",
          "text": [
            "1. Nghề làm nồi đất là cách gọi chung để chỉ nghề làm các dụng cụ nhà bếp dùng trong sinh hoạt như cà ràng (bếp lò có 3 chân), nồi, chảo... Nguyên liệu là loại đất sét có tính kết dính cao, dễ đánh bóng và chịu được nhiệt độ cao.\n",
            "2. Để hoàn thành một sản phẩm, người thợ phải thực hiện nhiều công đoạn, từ nhào trộn đất, tạo hình, làm bóng, vẻ hoa văn.... Sau một tuần phơi khô, các sản phẩm được đưa vào nung, còn gọi là \"đốt nồi\".\n",
            "3. Người thợ xếp sản phẩm trên mật đất, chèn rơm hoặc cỏ khô, phía trên có một lớp củi tràm.\n",
            "4. Sản phẩm \"nặng lửa\" được đặt ở trung tâm, loại \"nhẹ lửa\" sắp xếp ở chung quanh để sản phẩm không bị \"sống\" hoặc \"chín\" quá.\n",
            "5. Người ta thường \"đốt nồi\" vào ban đêm đế tiện theo dõi lửa.\n"
          ]
        }
      ]
    }
  ]
}