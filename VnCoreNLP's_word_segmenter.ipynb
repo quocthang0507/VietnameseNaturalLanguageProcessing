{
  "nbformat": 4,
  "nbformat_minor": 0,
  "metadata": {
    "colab": {
      "name": "VnCoreNLP's word segmenter",
      "provenance": [],
      "authorship_tag": "ABX9TyMipEbnNNklH4sO5p+4GVk0",
      "include_colab_link": true
    },
    "kernelspec": {
      "name": "python3",
      "display_name": "Python 3"
    },
    "language_info": {
      "name": "python"
    }
  },
  "cells": [
    {
      "cell_type": "markdown",
      "metadata": {
        "id": "view-in-github",
        "colab_type": "text"
      },
      "source": [
        "<a href=\"https://colab.research.google.com/github/quocthang0507/VietnameseNaturalLanguageProcessing/blob/main/VnCoreNLP's_word_segmenter.ipynb\" target=\"_parent\"><img src=\"https://colab.research.google.com/assets/colab-badge.svg\" alt=\"Open In Colab\"/></a>"
      ]
    },
    {
      "cell_type": "markdown",
      "metadata": {
        "id": "RWW1KZYjiwhy"
      },
      "source": [
        "VnCoreNLP Github repo: https://github.com/vncorenlp/VnCoreNLP\n",
        "\n",
        "VnCoreNLP Citation:\n",
        "```\n",
        "@inproceedings{vu-etal-2018-vncorenlp,\n",
        "    title = \"{V}n{C}ore{NLP}: A {V}ietnamese Natural Language Processing Toolkit\",\n",
        "    author = \"Vu, Thanh  and\n",
        "      Nguyen, Dat Quoc  and\n",
        "      Nguyen, Dai Quoc  and\n",
        "      Dras, Mark  and\n",
        "      Johnson, Mark\",\n",
        "    booktitle = \"Proceedings of the 2018 Conference of the North {A}merican Chapter of the Association for Computational Linguistics: Demonstrations\",\n",
        "    month = jun,\n",
        "    year = \"2018\",\n",
        "    address = \"New Orleans, Louisiana\",\n",
        "    publisher = \"Association for Computational Linguistics\",\n",
        "    url = \"https://aclanthology.org/N18-5012\",\n",
        "    doi = \"10.18653/v1/N18-5012\",\n",
        "    pages = \"56--60\",\n",
        "    abstract = \"We present an easy-to-use and fast toolkit, namely VnCoreNLP{---}a Java NLP annotation pipeline for Vietnamese. Our VnCoreNLP supports key natural language processing (NLP) tasks including word segmentation, part-of-speech (POS) tagging, named entity recognition (NER) and dependency parsing, and obtains state-of-the-art (SOTA) results for these tasks. We release VnCoreNLP to provide rich linguistic annotations to facilitate research work on Vietnamese NLP. Our VnCoreNLP is open-source and available at: \\url{https://github.com/vncorenlp/VnCoreNLP}\",\n",
        "}\n",
        "```\n",
        "\n"
      ]
    },
    {
      "cell_type": "code",
      "metadata": {
        "colab": {
          "base_uri": "https://localhost:8080/"
        },
        "id": "De3mCT_C3zOe",
        "outputId": "4faf77e0-2043-4834-b0a1-40531ea86d76"
      },
      "source": [
        "!pip3 install vncorenlp"
      ],
      "execution_count": 1,
      "outputs": [
        {
          "output_type": "stream",
          "name": "stdout",
          "text": [
            "Collecting vncorenlp\n",
            "  Downloading vncorenlp-1.0.3.tar.gz (2.6 MB)\n",
            "\u001b[K     |████████████████████████████████| 2.6 MB 13.5 MB/s \n",
            "\u001b[?25hRequirement already satisfied: requests in /usr/local/lib/python3.7/dist-packages (from vncorenlp) (2.23.0)\n",
            "Requirement already satisfied: certifi>=2017.4.17 in /usr/local/lib/python3.7/dist-packages (from requests->vncorenlp) (2021.10.8)\n",
            "Requirement already satisfied: urllib3!=1.25.0,!=1.25.1,<1.26,>=1.21.1 in /usr/local/lib/python3.7/dist-packages (from requests->vncorenlp) (1.24.3)\n",
            "Requirement already satisfied: idna<3,>=2.5 in /usr/local/lib/python3.7/dist-packages (from requests->vncorenlp) (2.10)\n",
            "Requirement already satisfied: chardet<4,>=3.0.2 in /usr/local/lib/python3.7/dist-packages (from requests->vncorenlp) (3.0.4)\n",
            "Building wheels for collected packages: vncorenlp\n",
            "  Building wheel for vncorenlp (setup.py) ... \u001b[?25l\u001b[?25hdone\n",
            "  Created wheel for vncorenlp: filename=vncorenlp-1.0.3-py3-none-any.whl size=2645951 sha256=152144ea51177097f71cfb46d164b22d212bbec415e01ba4409b07ef1f55ab86\n",
            "  Stored in directory: /root/.cache/pip/wheels/0c/d8/f2/d28d97379b4f6479bf51247c8dfd57fa00932fa7a74b6aab29\n",
            "Successfully built vncorenlp\n",
            "Installing collected packages: vncorenlp\n",
            "Successfully installed vncorenlp-1.0.3\n"
          ]
        }
      ]
    },
    {
      "cell_type": "code",
      "metadata": {
        "id": "n-_GyyWJ3_yd"
      },
      "source": [
        "mkdir -p vncorenlp/models/wordsegmenter"
      ],
      "execution_count": 2,
      "outputs": []
    },
    {
      "cell_type": "code",
      "metadata": {
        "colab": {
          "base_uri": "https://localhost:8080/"
        },
        "id": "5Z5Zz85E4EdF",
        "outputId": "e1d3a0bb-84b0-44bb-d089-3626099781e6"
      },
      "source": [
        "!wget https://raw.githubusercontent.com/vncorenlp/VnCoreNLP/master/VnCoreNLP-1.1.1.jar\n",
        "!wget https://raw.githubusercontent.com/vncorenlp/VnCoreNLP/master/models/wordsegmenter/vi-vocab\n",
        "!wget https://raw.githubusercontent.com/vncorenlp/VnCoreNLP/master/models/wordsegmenter/wordsegmenter.rdr"
      ],
      "execution_count": 3,
      "outputs": [
        {
          "output_type": "stream",
          "name": "stdout",
          "text": [
            "--2022-01-10 01:41:02--  https://raw.githubusercontent.com/vncorenlp/VnCoreNLP/master/VnCoreNLP-1.1.1.jar\n",
            "Resolving raw.githubusercontent.com (raw.githubusercontent.com)... 185.199.108.133, 185.199.111.133, 185.199.110.133, ...\n",
            "Connecting to raw.githubusercontent.com (raw.githubusercontent.com)|185.199.108.133|:443... connected.\n",
            "HTTP request sent, awaiting response... 200 OK\n",
            "Length: 27412575 (26M) [application/octet-stream]\n",
            "Saving to: ‘VnCoreNLP-1.1.1.jar’\n",
            "\n",
            "VnCoreNLP-1.1.1.jar 100%[===================>]  26.14M  --.-KB/s    in 0.09s   \n",
            "\n",
            "2022-01-10 01:41:04 (303 MB/s) - ‘VnCoreNLP-1.1.1.jar’ saved [27412575/27412575]\n",
            "\n",
            "--2022-01-10 01:41:04--  https://raw.githubusercontent.com/vncorenlp/VnCoreNLP/master/models/wordsegmenter/vi-vocab\n",
            "Resolving raw.githubusercontent.com (raw.githubusercontent.com)... 185.199.110.133, 185.199.111.133, 185.199.109.133, ...\n",
            "Connecting to raw.githubusercontent.com (raw.githubusercontent.com)|185.199.110.133|:443... connected.\n",
            "HTTP request sent, awaiting response... 200 OK\n",
            "Length: 526544 (514K) [application/octet-stream]\n",
            "Saving to: ‘vi-vocab’\n",
            "\n",
            "vi-vocab            100%[===================>] 514.20K  --.-KB/s    in 0.02s   \n",
            "\n",
            "2022-01-10 01:41:04 (33.4 MB/s) - ‘vi-vocab’ saved [526544/526544]\n",
            "\n",
            "--2022-01-10 01:41:04--  https://raw.githubusercontent.com/vncorenlp/VnCoreNLP/master/models/wordsegmenter/wordsegmenter.rdr\n",
            "Resolving raw.githubusercontent.com (raw.githubusercontent.com)... 185.199.108.133, 185.199.110.133, 185.199.111.133, ...\n",
            "Connecting to raw.githubusercontent.com (raw.githubusercontent.com)|185.199.108.133|:443... connected.\n",
            "HTTP request sent, awaiting response... 200 OK\n",
            "Length: 128508 (125K) [text/plain]\n",
            "Saving to: ‘wordsegmenter.rdr’\n",
            "\n",
            "wordsegmenter.rdr   100%[===================>] 125.50K  --.-KB/s    in 0.007s  \n",
            "\n",
            "2022-01-10 01:41:04 (17.7 MB/s) - ‘wordsegmenter.rdr’ saved [128508/128508]\n",
            "\n"
          ]
        }
      ]
    },
    {
      "cell_type": "code",
      "metadata": {
        "id": "ikMJJdhg4gQN"
      },
      "source": [
        "!mv VnCoreNLP-1.1.1.jar vncorenlp/ \n",
        "!mv vi-vocab vncorenlp/models/wordsegmenter/\n",
        "!mv wordsegmenter.rdr vncorenlp/models/wordsegmenter/"
      ],
      "execution_count": 4,
      "outputs": []
    },
    {
      "cell_type": "code",
      "metadata": {
        "id": "pz0RPBhi4ny9"
      },
      "source": [
        "from vncorenlp import VnCoreNLP"
      ],
      "execution_count": 5,
      "outputs": []
    },
    {
      "cell_type": "code",
      "metadata": {
        "id": "05hAWL3q4vAW"
      },
      "source": [
        "rdrsegmenter = VnCoreNLP('vncorenlp/VnCoreNLP-1.1.1.jar', annotators=\"wseg\", max_heap_size='-Xmx500m')"
      ],
      "execution_count": 6,
      "outputs": []
    },
    {
      "cell_type": "code",
      "metadata": {
        "id": "Dh0CqzXx5Lfg"
      },
      "source": [
        "text = \"Cộng hòa Xã hội chủ nghĩa Việt Nam. Độc lập - Tự do - Hạnh phúc\""
      ],
      "execution_count": 7,
      "outputs": []
    },
    {
      "cell_type": "code",
      "metadata": {
        "id": "ARbDyhMC5RWK",
        "colab": {
          "base_uri": "https://localhost:8080/"
        },
        "outputId": "61dd8072-582f-4efc-a027-170064df668e"
      },
      "source": [
        "tokens = rdrsegmenter.tokenize(text) \n",
        "print(tokens)\n",
        "\n",
        "def tokenize(sentence: str):\n",
        "    tokens = rdrsegmenter.tokenize(sentence)\n",
        "    for i in range(len(tokens)):\n",
        "        sentence = tokens[i]\n",
        "        for j in range(len(sentence)):\n",
        "            sentence[j] = sentence[j].split('_')\n",
        "        tokens[i] = sentence\n",
        "    return tokens\n",
        "\n",
        "tokens = tokenize(text)\n",
        "print(tokens)"
      ],
      "execution_count": 8,
      "outputs": [
        {
          "output_type": "stream",
          "name": "stdout",
          "text": [
            "[['Cộng_hoà_Xã_hội_chủ_nghĩa_Việt_Nam', '.'], ['Độc_lập', '-', 'Tự_do', '-', 'Hạnh_phúc']]\n",
            "[[['Cộng', 'hoà', 'Xã', 'hội', 'chủ', 'nghĩa', 'Việt', 'Nam'], ['.']], [['Độc', 'lập'], ['-'], ['Tự', 'do'], ['-'], ['Hạnh', 'phúc']]]\n"
          ]
        }
      ]
    },
    {
      "cell_type": "code",
      "metadata": {
        "id": "mOfujg0Yim01",
        "colab": {
          "base_uri": "https://localhost:8080/"
        },
        "outputId": "c6b1c94c-9087-4f5e-eec9-322ec705e3d9"
      },
      "source": [
        "tokenize('Báo ảnh Dân tộc và Miền núi')"
      ],
      "execution_count": 9,
      "outputs": [
        {
          "output_type": "execute_result",
          "data": {
            "text/plain": [
              "[[['Báo', 'ảnh'], ['Dân', 'tộc'], ['và'], ['Miền'], ['núi']]]"
            ]
          },
          "metadata": {},
          "execution_count": 9
        }
      ]
    },
    {
      "cell_type": "code",
      "metadata": {
        "colab": {
          "base_uri": "https://localhost:8080/"
        },
        "id": "-CplRiMplnNO",
        "outputId": "df2337d3-e3d4-41e5-88d5-a88e7232c45b"
      },
      "source": [
        "tokenize('Học sinh học sinh học')"
      ],
      "execution_count": 10,
      "outputs": [
        {
          "output_type": "execute_result",
          "data": {
            "text/plain": [
              "[[['Học', 'sinh'], ['học', 'sinh'], ['học']]]"
            ]
          },
          "metadata": {},
          "execution_count": 10
        }
      ]
    },
    {
      "cell_type": "code",
      "source": [
        "tokenize(\"đại học quốc gia hà nội tuyển sinh sinh viên đã tốt nghiệp đại học học cao học\")"
      ],
      "metadata": {
        "colab": {
          "base_uri": "https://localhost:8080/"
        },
        "id": "z62AbvWPpZ07",
        "outputId": "b5e3d558-02bc-473d-9a6e-e24dba4e7759"
      },
      "execution_count": 11,
      "outputs": [
        {
          "output_type": "execute_result",
          "data": {
            "text/plain": [
              "[[['đại', 'học'],\n",
              "  ['quốc', 'gia'],\n",
              "  ['hà', 'nội'],\n",
              "  ['tuyển', 'sinh'],\n",
              "  ['sinh', 'viên'],\n",
              "  ['đã'],\n",
              "  ['tốt', 'nghiệp'],\n",
              "  ['đại', 'học'],\n",
              "  ['học'],\n",
              "  ['cao', 'học']]]"
            ]
          },
          "metadata": {},
          "execution_count": 11
        }
      ]
    }
  ]
}