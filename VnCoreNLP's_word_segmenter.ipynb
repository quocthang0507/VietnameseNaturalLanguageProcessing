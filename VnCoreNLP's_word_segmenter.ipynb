{
  "nbformat": 4,
  "nbformat_minor": 0,
  "metadata": {
    "colab": {
      "name": "VnCoreNLP's word segmenter",
      "provenance": [],
      "authorship_tag": "ABX9TyOXFBIN7zPB1PoHfnfS1qEo",
      "include_colab_link": true
    },
    "kernelspec": {
      "name": "python3",
      "display_name": "Python 3"
    },
    "language_info": {
      "name": "python"
    }
  },
  "cells": [
    {
      "cell_type": "markdown",
      "metadata": {
        "id": "view-in-github",
        "colab_type": "text"
      },
      "source": [
        "<a href=\"https://colab.research.google.com/github/quocthang0507/VietnameseNaturalLanguageProcessing/blob/main/VnCoreNLP's_word_segmenter.ipynb\" target=\"_parent\"><img src=\"https://colab.research.google.com/assets/colab-badge.svg\" alt=\"Open In Colab\"/></a>"
      ]
    },
    {
      "cell_type": "markdown",
      "metadata": {
        "id": "RWW1KZYjiwhy"
      },
      "source": [
        "VnCoreNLP Github repo: https://github.com/vncorenlp/VnCoreNLP\n",
        "\n",
        "VnCoreNLP Citation:\n",
        "```\n",
        "@inproceedings{vu-etal-2018-vncorenlp,\n",
        "    title = \"{V}n{C}ore{NLP}: A {V}ietnamese Natural Language Processing Toolkit\",\n",
        "    author = \"Vu, Thanh  and\n",
        "      Nguyen, Dat Quoc  and\n",
        "      Nguyen, Dai Quoc  and\n",
        "      Dras, Mark  and\n",
        "      Johnson, Mark\",\n",
        "    booktitle = \"Proceedings of the 2018 Conference of the North {A}merican Chapter of the Association for Computational Linguistics: Demonstrations\",\n",
        "    month = jun,\n",
        "    year = \"2018\",\n",
        "    address = \"New Orleans, Louisiana\",\n",
        "    publisher = \"Association for Computational Linguistics\",\n",
        "    url = \"https://aclanthology.org/N18-5012\",\n",
        "    doi = \"10.18653/v1/N18-5012\",\n",
        "    pages = \"56--60\",\n",
        "    abstract = \"We present an easy-to-use and fast toolkit, namely VnCoreNLP{---}a Java NLP annotation pipeline for Vietnamese. Our VnCoreNLP supports key natural language processing (NLP) tasks including word segmentation, part-of-speech (POS) tagging, named entity recognition (NER) and dependency parsing, and obtains state-of-the-art (SOTA) results for these tasks. We release VnCoreNLP to provide rich linguistic annotations to facilitate research work on Vietnamese NLP. Our VnCoreNLP is open-source and available at: \\url{https://github.com/vncorenlp/VnCoreNLP}\",\n",
        "}\n",
        "```\n",
        "\n"
      ]
    },
    {
      "cell_type": "code",
      "metadata": {
        "colab": {
          "base_uri": "https://localhost:8080/"
        },
        "id": "De3mCT_C3zOe",
        "outputId": "7378d0c5-61f6-4c9a-ee39-a76a7506031e"
      },
      "source": [
        "!pip3 install vncorenlp"
      ],
      "execution_count": 1,
      "outputs": [
        {
          "output_type": "stream",
          "name": "stdout",
          "text": [
            "Collecting vncorenlp\n",
            "  Downloading vncorenlp-1.0.3.tar.gz (2.6 MB)\n",
            "\u001b[?25l\r\u001b[K     |▏                               | 10 kB 20.2 MB/s eta 0:00:01\r\u001b[K     |▎                               | 20 kB 21.9 MB/s eta 0:00:01\r\u001b[K     |▍                               | 30 kB 26.1 MB/s eta 0:00:01\r\u001b[K     |▌                               | 40 kB 29.9 MB/s eta 0:00:01\r\u001b[K     |▋                               | 51 kB 33.0 MB/s eta 0:00:01\r\u001b[K     |▊                               | 61 kB 33.8 MB/s eta 0:00:01\r\u001b[K     |▉                               | 71 kB 34.5 MB/s eta 0:00:01\r\u001b[K     |█                               | 81 kB 36.6 MB/s eta 0:00:01\r\u001b[K     |█▏                              | 92 kB 28.9 MB/s eta 0:00:01\r\u001b[K     |█▎                              | 102 kB 28.7 MB/s eta 0:00:01\r\u001b[K     |█▍                              | 112 kB 28.7 MB/s eta 0:00:01\r\u001b[K     |█▌                              | 122 kB 28.7 MB/s eta 0:00:01\r\u001b[K     |█▋                              | 133 kB 28.7 MB/s eta 0:00:01\r\u001b[K     |█▊                              | 143 kB 28.7 MB/s eta 0:00:01\r\u001b[K     |█▉                              | 153 kB 28.7 MB/s eta 0:00:01\r\u001b[K     |██                              | 163 kB 28.7 MB/s eta 0:00:01\r\u001b[K     |██                              | 174 kB 28.7 MB/s eta 0:00:01\r\u001b[K     |██▎                             | 184 kB 28.7 MB/s eta 0:00:01\r\u001b[K     |██▍                             | 194 kB 28.7 MB/s eta 0:00:01\r\u001b[K     |██▌                             | 204 kB 28.7 MB/s eta 0:00:01\r\u001b[K     |██▋                             | 215 kB 28.7 MB/s eta 0:00:01\r\u001b[K     |██▊                             | 225 kB 28.7 MB/s eta 0:00:01\r\u001b[K     |██▉                             | 235 kB 28.7 MB/s eta 0:00:01\r\u001b[K     |███                             | 245 kB 28.7 MB/s eta 0:00:01\r\u001b[K     |███                             | 256 kB 28.7 MB/s eta 0:00:01\r\u001b[K     |███▏                            | 266 kB 28.7 MB/s eta 0:00:01\r\u001b[K     |███▍                            | 276 kB 28.7 MB/s eta 0:00:01\r\u001b[K     |███▌                            | 286 kB 28.7 MB/s eta 0:00:01\r\u001b[K     |███▋                            | 296 kB 28.7 MB/s eta 0:00:01\r\u001b[K     |███▊                            | 307 kB 28.7 MB/s eta 0:00:01\r\u001b[K     |███▉                            | 317 kB 28.7 MB/s eta 0:00:01\r\u001b[K     |████                            | 327 kB 28.7 MB/s eta 0:00:01\r\u001b[K     |████                            | 337 kB 28.7 MB/s eta 0:00:01\r\u001b[K     |████▏                           | 348 kB 28.7 MB/s eta 0:00:01\r\u001b[K     |████▎                           | 358 kB 28.7 MB/s eta 0:00:01\r\u001b[K     |████▌                           | 368 kB 28.7 MB/s eta 0:00:01\r\u001b[K     |████▋                           | 378 kB 28.7 MB/s eta 0:00:01\r\u001b[K     |████▊                           | 389 kB 28.7 MB/s eta 0:00:01\r\u001b[K     |████▉                           | 399 kB 28.7 MB/s eta 0:00:01\r\u001b[K     |█████                           | 409 kB 28.7 MB/s eta 0:00:01\r\u001b[K     |█████                           | 419 kB 28.7 MB/s eta 0:00:01\r\u001b[K     |█████▏                          | 430 kB 28.7 MB/s eta 0:00:01\r\u001b[K     |█████▎                          | 440 kB 28.7 MB/s eta 0:00:01\r\u001b[K     |█████▍                          | 450 kB 28.7 MB/s eta 0:00:01\r\u001b[K     |█████▋                          | 460 kB 28.7 MB/s eta 0:00:01\r\u001b[K     |█████▊                          | 471 kB 28.7 MB/s eta 0:00:01\r\u001b[K     |█████▉                          | 481 kB 28.7 MB/s eta 0:00:01\r\u001b[K     |██████                          | 491 kB 28.7 MB/s eta 0:00:01\r\u001b[K     |██████                          | 501 kB 28.7 MB/s eta 0:00:01\r\u001b[K     |██████▏                         | 512 kB 28.7 MB/s eta 0:00:01\r\u001b[K     |██████▎                         | 522 kB 28.7 MB/s eta 0:00:01\r\u001b[K     |██████▍                         | 532 kB 28.7 MB/s eta 0:00:01\r\u001b[K     |██████▋                         | 542 kB 28.7 MB/s eta 0:00:01\r\u001b[K     |██████▊                         | 552 kB 28.7 MB/s eta 0:00:01\r\u001b[K     |██████▉                         | 563 kB 28.7 MB/s eta 0:00:01\r\u001b[K     |███████                         | 573 kB 28.7 MB/s eta 0:00:01\r\u001b[K     |███████                         | 583 kB 28.7 MB/s eta 0:00:01\r\u001b[K     |███████▏                        | 593 kB 28.7 MB/s eta 0:00:01\r\u001b[K     |███████▎                        | 604 kB 28.7 MB/s eta 0:00:01\r\u001b[K     |███████▍                        | 614 kB 28.7 MB/s eta 0:00:01\r\u001b[K     |███████▌                        | 624 kB 28.7 MB/s eta 0:00:01\r\u001b[K     |███████▊                        | 634 kB 28.7 MB/s eta 0:00:01\r\u001b[K     |███████▉                        | 645 kB 28.7 MB/s eta 0:00:01\r\u001b[K     |████████                        | 655 kB 28.7 MB/s eta 0:00:01\r\u001b[K     |████████                        | 665 kB 28.7 MB/s eta 0:00:01\r\u001b[K     |████████▏                       | 675 kB 28.7 MB/s eta 0:00:01\r\u001b[K     |████████▎                       | 686 kB 28.7 MB/s eta 0:00:01\r\u001b[K     |████████▍                       | 696 kB 28.7 MB/s eta 0:00:01\r\u001b[K     |████████▌                       | 706 kB 28.7 MB/s eta 0:00:01\r\u001b[K     |████████▋                       | 716 kB 28.7 MB/s eta 0:00:01\r\u001b[K     |████████▉                       | 727 kB 28.7 MB/s eta 0:00:01\r\u001b[K     |█████████                       | 737 kB 28.7 MB/s eta 0:00:01\r\u001b[K     |█████████                       | 747 kB 28.7 MB/s eta 0:00:01\r\u001b[K     |█████████▏                      | 757 kB 28.7 MB/s eta 0:00:01\r\u001b[K     |█████████▎                      | 768 kB 28.7 MB/s eta 0:00:01\r\u001b[K     |█████████▍                      | 778 kB 28.7 MB/s eta 0:00:01\r\u001b[K     |█████████▌                      | 788 kB 28.7 MB/s eta 0:00:01\r\u001b[K     |█████████▋                      | 798 kB 28.7 MB/s eta 0:00:01\r\u001b[K     |█████████▊                      | 808 kB 28.7 MB/s eta 0:00:01\r\u001b[K     |██████████                      | 819 kB 28.7 MB/s eta 0:00:01\r\u001b[K     |██████████                      | 829 kB 28.7 MB/s eta 0:00:01\r\u001b[K     |██████████▏                     | 839 kB 28.7 MB/s eta 0:00:01\r\u001b[K     |██████████▎                     | 849 kB 28.7 MB/s eta 0:00:01\r\u001b[K     |██████████▍                     | 860 kB 28.7 MB/s eta 0:00:01\r\u001b[K     |██████████▌                     | 870 kB 28.7 MB/s eta 0:00:01\r\u001b[K     |██████████▋                     | 880 kB 28.7 MB/s eta 0:00:01\r\u001b[K     |██████████▊                     | 890 kB 28.7 MB/s eta 0:00:01\r\u001b[K     |██████████▉                     | 901 kB 28.7 MB/s eta 0:00:01\r\u001b[K     |███████████                     | 911 kB 28.7 MB/s eta 0:00:01\r\u001b[K     |███████████▏                    | 921 kB 28.7 MB/s eta 0:00:01\r\u001b[K     |███████████▎                    | 931 kB 28.7 MB/s eta 0:00:01\r\u001b[K     |███████████▍                    | 942 kB 28.7 MB/s eta 0:00:01\r\u001b[K     |███████████▌                    | 952 kB 28.7 MB/s eta 0:00:01\r\u001b[K     |███████████▋                    | 962 kB 28.7 MB/s eta 0:00:01\r\u001b[K     |███████████▊                    | 972 kB 28.7 MB/s eta 0:00:01\r\u001b[K     |███████████▉                    | 983 kB 28.7 MB/s eta 0:00:01\r\u001b[K     |████████████                    | 993 kB 28.7 MB/s eta 0:00:01\r\u001b[K     |████████████▏                   | 1.0 MB 28.7 MB/s eta 0:00:01\r\u001b[K     |████████████▎                   | 1.0 MB 28.7 MB/s eta 0:00:01\r\u001b[K     |████████████▍                   | 1.0 MB 28.7 MB/s eta 0:00:01\r\u001b[K     |████████████▌                   | 1.0 MB 28.7 MB/s eta 0:00:01\r\u001b[K     |████████████▋                   | 1.0 MB 28.7 MB/s eta 0:00:01\r\u001b[K     |████████████▊                   | 1.1 MB 28.7 MB/s eta 0:00:01\r\u001b[K     |████████████▉                   | 1.1 MB 28.7 MB/s eta 0:00:01\r\u001b[K     |█████████████                   | 1.1 MB 28.7 MB/s eta 0:00:01\r\u001b[K     |█████████████▏                  | 1.1 MB 28.7 MB/s eta 0:00:01\r\u001b[K     |█████████████▎                  | 1.1 MB 28.7 MB/s eta 0:00:01\r\u001b[K     |█████████████▍                  | 1.1 MB 28.7 MB/s eta 0:00:01\r\u001b[K     |█████████████▌                  | 1.1 MB 28.7 MB/s eta 0:00:01\r\u001b[K     |█████████████▋                  | 1.1 MB 28.7 MB/s eta 0:00:01\r\u001b[K     |█████████████▊                  | 1.1 MB 28.7 MB/s eta 0:00:01\r\u001b[K     |█████████████▉                  | 1.1 MB 28.7 MB/s eta 0:00:01\r\u001b[K     |██████████████                  | 1.2 MB 28.7 MB/s eta 0:00:01\r\u001b[K     |██████████████                  | 1.2 MB 28.7 MB/s eta 0:00:01\r\u001b[K     |██████████████▎                 | 1.2 MB 28.7 MB/s eta 0:00:01\r\u001b[K     |██████████████▍                 | 1.2 MB 28.7 MB/s eta 0:00:01\r\u001b[K     |██████████████▌                 | 1.2 MB 28.7 MB/s eta 0:00:01\r\u001b[K     |██████████████▋                 | 1.2 MB 28.7 MB/s eta 0:00:01\r\u001b[K     |██████████████▊                 | 1.2 MB 28.7 MB/s eta 0:00:01\r\u001b[K     |██████████████▉                 | 1.2 MB 28.7 MB/s eta 0:00:01\r\u001b[K     |███████████████                 | 1.2 MB 28.7 MB/s eta 0:00:01\r\u001b[K     |███████████████                 | 1.2 MB 28.7 MB/s eta 0:00:01\r\u001b[K     |███████████████▏                | 1.3 MB 28.7 MB/s eta 0:00:01\r\u001b[K     |███████████████▍                | 1.3 MB 28.7 MB/s eta 0:00:01\r\u001b[K     |███████████████▌                | 1.3 MB 28.7 MB/s eta 0:00:01\r\u001b[K     |███████████████▋                | 1.3 MB 28.7 MB/s eta 0:00:01\r\u001b[K     |███████████████▊                | 1.3 MB 28.7 MB/s eta 0:00:01\r\u001b[K     |███████████████▉                | 1.3 MB 28.7 MB/s eta 0:00:01\r\u001b[K     |████████████████                | 1.3 MB 28.7 MB/s eta 0:00:01\r\u001b[K     |████████████████                | 1.3 MB 28.7 MB/s eta 0:00:01\r\u001b[K     |████████████████▏               | 1.3 MB 28.7 MB/s eta 0:00:01\r\u001b[K     |████████████████▎               | 1.4 MB 28.7 MB/s eta 0:00:01\r\u001b[K     |████████████████▌               | 1.4 MB 28.7 MB/s eta 0:00:01\r\u001b[K     |████████████████▋               | 1.4 MB 28.7 MB/s eta 0:00:01\r\u001b[K     |████████████████▊               | 1.4 MB 28.7 MB/s eta 0:00:01\r\u001b[K     |████████████████▉               | 1.4 MB 28.7 MB/s eta 0:00:01\r\u001b[K     |█████████████████               | 1.4 MB 28.7 MB/s eta 0:00:01\r\u001b[K     |█████████████████               | 1.4 MB 28.7 MB/s eta 0:00:01\r\u001b[K     |█████████████████▏              | 1.4 MB 28.7 MB/s eta 0:00:01\r\u001b[K     |█████████████████▎              | 1.4 MB 28.7 MB/s eta 0:00:01\r\u001b[K     |█████████████████▍              | 1.4 MB 28.7 MB/s eta 0:00:01\r\u001b[K     |█████████████████▋              | 1.5 MB 28.7 MB/s eta 0:00:01\r\u001b[K     |█████████████████▊              | 1.5 MB 28.7 MB/s eta 0:00:01\r\u001b[K     |█████████████████▉              | 1.5 MB 28.7 MB/s eta 0:00:01\r\u001b[K     |██████████████████              | 1.5 MB 28.7 MB/s eta 0:00:01\r\u001b[K     |██████████████████              | 1.5 MB 28.7 MB/s eta 0:00:01\r\u001b[K     |██████████████████▏             | 1.5 MB 28.7 MB/s eta 0:00:01\r\u001b[K     |██████████████████▎             | 1.5 MB 28.7 MB/s eta 0:00:01\r\u001b[K     |██████████████████▍             | 1.5 MB 28.7 MB/s eta 0:00:01\r\u001b[K     |██████████████████▋             | 1.5 MB 28.7 MB/s eta 0:00:01\r\u001b[K     |██████████████████▊             | 1.5 MB 28.7 MB/s eta 0:00:01\r\u001b[K     |██████████████████▉             | 1.6 MB 28.7 MB/s eta 0:00:01\r\u001b[K     |███████████████████             | 1.6 MB 28.7 MB/s eta 0:00:01\r\u001b[K     |███████████████████             | 1.6 MB 28.7 MB/s eta 0:00:01\r\u001b[K     |███████████████████▏            | 1.6 MB 28.7 MB/s eta 0:00:01\r\u001b[K     |███████████████████▎            | 1.6 MB 28.7 MB/s eta 0:00:01\r\u001b[K     |███████████████████▍            | 1.6 MB 28.7 MB/s eta 0:00:01\r\u001b[K     |███████████████████▌            | 1.6 MB 28.7 MB/s eta 0:00:01\r\u001b[K     |███████████████████▊            | 1.6 MB 28.7 MB/s eta 0:00:01\r\u001b[K     |███████████████████▉            | 1.6 MB 28.7 MB/s eta 0:00:01\r\u001b[K     |████████████████████            | 1.6 MB 28.7 MB/s eta 0:00:01\r\u001b[K     |████████████████████            | 1.7 MB 28.7 MB/s eta 0:00:01\r\u001b[K     |████████████████████▏           | 1.7 MB 28.7 MB/s eta 0:00:01\r\u001b[K     |████████████████████▎           | 1.7 MB 28.7 MB/s eta 0:00:01\r\u001b[K     |████████████████████▍           | 1.7 MB 28.7 MB/s eta 0:00:01\r\u001b[K     |████████████████████▌           | 1.7 MB 28.7 MB/s eta 0:00:01\r\u001b[K     |████████████████████▋           | 1.7 MB 28.7 MB/s eta 0:00:01\r\u001b[K     |████████████████████▉           | 1.7 MB 28.7 MB/s eta 0:00:01\r\u001b[K     |█████████████████████           | 1.7 MB 28.7 MB/s eta 0:00:01\r\u001b[K     |█████████████████████           | 1.7 MB 28.7 MB/s eta 0:00:01\r\u001b[K     |█████████████████████▏          | 1.8 MB 28.7 MB/s eta 0:00:01\r\u001b[K     |█████████████████████▎          | 1.8 MB 28.7 MB/s eta 0:00:01\r\u001b[K     |█████████████████████▍          | 1.8 MB 28.7 MB/s eta 0:00:01\r\u001b[K     |█████████████████████▌          | 1.8 MB 28.7 MB/s eta 0:00:01\r\u001b[K     |█████████████████████▋          | 1.8 MB 28.7 MB/s eta 0:00:01\r\u001b[K     |█████████████████████▊          | 1.8 MB 28.7 MB/s eta 0:00:01\r\u001b[K     |██████████████████████          | 1.8 MB 28.7 MB/s eta 0:00:01\r\u001b[K     |██████████████████████          | 1.8 MB 28.7 MB/s eta 0:00:01\r\u001b[K     |██████████████████████▏         | 1.8 MB 28.7 MB/s eta 0:00:01\r\u001b[K     |██████████████████████▎         | 1.8 MB 28.7 MB/s eta 0:00:01\r\u001b[K     |██████████████████████▍         | 1.9 MB 28.7 MB/s eta 0:00:01\r\u001b[K     |██████████████████████▌         | 1.9 MB 28.7 MB/s eta 0:00:01\r\u001b[K     |██████████████████████▋         | 1.9 MB 28.7 MB/s eta 0:00:01\r\u001b[K     |██████████████████████▊         | 1.9 MB 28.7 MB/s eta 0:00:01\r\u001b[K     |██████████████████████▉         | 1.9 MB 28.7 MB/s eta 0:00:01\r\u001b[K     |███████████████████████         | 1.9 MB 28.7 MB/s eta 0:00:01\r\u001b[K     |███████████████████████▏        | 1.9 MB 28.7 MB/s eta 0:00:01\r\u001b[K     |███████████████████████▎        | 1.9 MB 28.7 MB/s eta 0:00:01\r\u001b[K     |███████████████████████▍        | 1.9 MB 28.7 MB/s eta 0:00:01\r\u001b[K     |███████████████████████▌        | 1.9 MB 28.7 MB/s eta 0:00:01\r\u001b[K     |███████████████████████▋        | 2.0 MB 28.7 MB/s eta 0:00:01\r\u001b[K     |███████████████████████▊        | 2.0 MB 28.7 MB/s eta 0:00:01\r\u001b[K     |███████████████████████▉        | 2.0 MB 28.7 MB/s eta 0:00:01\r\u001b[K     |████████████████████████        | 2.0 MB 28.7 MB/s eta 0:00:01\r\u001b[K     |████████████████████████▏       | 2.0 MB 28.7 MB/s eta 0:00:01\r\u001b[K     |████████████████████████▎       | 2.0 MB 28.7 MB/s eta 0:00:01\r\u001b[K     |████████████████████████▍       | 2.0 MB 28.7 MB/s eta 0:00:01\r\u001b[K     |████████████████████████▌       | 2.0 MB 28.7 MB/s eta 0:00:01\r\u001b[K     |████████████████████████▋       | 2.0 MB 28.7 MB/s eta 0:00:01\r\u001b[K     |████████████████████████▊       | 2.0 MB 28.7 MB/s eta 0:00:01\r\u001b[K     |████████████████████████▉       | 2.1 MB 28.7 MB/s eta 0:00:01\r\u001b[K     |█████████████████████████       | 2.1 MB 28.7 MB/s eta 0:00:01\r\u001b[K     |█████████████████████████▏      | 2.1 MB 28.7 MB/s eta 0:00:01\r\u001b[K     |█████████████████████████▎      | 2.1 MB 28.7 MB/s eta 0:00:01\r\u001b[K     |█████████████████████████▍      | 2.1 MB 28.7 MB/s eta 0:00:01\r\u001b[K     |█████████████████████████▌      | 2.1 MB 28.7 MB/s eta 0:00:01\r\u001b[K     |█████████████████████████▋      | 2.1 MB 28.7 MB/s eta 0:00:01\r\u001b[K     |█████████████████████████▊      | 2.1 MB 28.7 MB/s eta 0:00:01\r\u001b[K     |█████████████████████████▉      | 2.1 MB 28.7 MB/s eta 0:00:01\r\u001b[K     |██████████████████████████      | 2.2 MB 28.7 MB/s eta 0:00:01\r\u001b[K     |██████████████████████████      | 2.2 MB 28.7 MB/s eta 0:00:01\r\u001b[K     |██████████████████████████▎     | 2.2 MB 28.7 MB/s eta 0:00:01\r\u001b[K     |██████████████████████████▍     | 2.2 MB 28.7 MB/s eta 0:00:01\r\u001b[K     |██████████████████████████▌     | 2.2 MB 28.7 MB/s eta 0:00:01\r\u001b[K     |██████████████████████████▋     | 2.2 MB 28.7 MB/s eta 0:00:01\r\u001b[K     |██████████████████████████▊     | 2.2 MB 28.7 MB/s eta 0:00:01\r\u001b[K     |██████████████████████████▉     | 2.2 MB 28.7 MB/s eta 0:00:01\r\u001b[K     |███████████████████████████     | 2.2 MB 28.7 MB/s eta 0:00:01\r\u001b[K     |███████████████████████████     | 2.2 MB 28.7 MB/s eta 0:00:01\r\u001b[K     |███████████████████████████▏    | 2.3 MB 28.7 MB/s eta 0:00:01\r\u001b[K     |███████████████████████████▍    | 2.3 MB 28.7 MB/s eta 0:00:01\r\u001b[K     |███████████████████████████▌    | 2.3 MB 28.7 MB/s eta 0:00:01\r\u001b[K     |███████████████████████████▋    | 2.3 MB 28.7 MB/s eta 0:00:01\r\u001b[K     |███████████████████████████▊    | 2.3 MB 28.7 MB/s eta 0:00:01\r\u001b[K     |███████████████████████████▉    | 2.3 MB 28.7 MB/s eta 0:00:01\r\u001b[K     |████████████████████████████    | 2.3 MB 28.7 MB/s eta 0:00:01\r\u001b[K     |████████████████████████████    | 2.3 MB 28.7 MB/s eta 0:00:01\r\u001b[K     |████████████████████████████▏   | 2.3 MB 28.7 MB/s eta 0:00:01\r\u001b[K     |████████████████████████████▎   | 2.3 MB 28.7 MB/s eta 0:00:01\r\u001b[K     |████████████████████████████▌   | 2.4 MB 28.7 MB/s eta 0:00:01\r\u001b[K     |████████████████████████████▋   | 2.4 MB 28.7 MB/s eta 0:00:01\r\u001b[K     |████████████████████████████▊   | 2.4 MB 28.7 MB/s eta 0:00:01\r\u001b[K     |████████████████████████████▉   | 2.4 MB 28.7 MB/s eta 0:00:01\r\u001b[K     |█████████████████████████████   | 2.4 MB 28.7 MB/s eta 0:00:01\r\u001b[K     |█████████████████████████████   | 2.4 MB 28.7 MB/s eta 0:00:01\r\u001b[K     |█████████████████████████████▏  | 2.4 MB 28.7 MB/s eta 0:00:01\r\u001b[K     |█████████████████████████████▎  | 2.4 MB 28.7 MB/s eta 0:00:01\r\u001b[K     |█████████████████████████████▍  | 2.4 MB 28.7 MB/s eta 0:00:01\r\u001b[K     |█████████████████████████████▋  | 2.4 MB 28.7 MB/s eta 0:00:01\r\u001b[K     |█████████████████████████████▊  | 2.5 MB 28.7 MB/s eta 0:00:01\r\u001b[K     |█████████████████████████████▉  | 2.5 MB 28.7 MB/s eta 0:00:01\r\u001b[K     |██████████████████████████████  | 2.5 MB 28.7 MB/s eta 0:00:01\r\u001b[K     |██████████████████████████████  | 2.5 MB 28.7 MB/s eta 0:00:01\r\u001b[K     |██████████████████████████████▏ | 2.5 MB 28.7 MB/s eta 0:00:01\r\u001b[K     |██████████████████████████████▎ | 2.5 MB 28.7 MB/s eta 0:00:01\r\u001b[K     |██████████████████████████████▍ | 2.5 MB 28.7 MB/s eta 0:00:01\r\u001b[K     |██████████████████████████████▋ | 2.5 MB 28.7 MB/s eta 0:00:01\r\u001b[K     |██████████████████████████████▊ | 2.5 MB 28.7 MB/s eta 0:00:01\r\u001b[K     |██████████████████████████████▉ | 2.5 MB 28.7 MB/s eta 0:00:01\r\u001b[K     |███████████████████████████████ | 2.6 MB 28.7 MB/s eta 0:00:01\r\u001b[K     |███████████████████████████████ | 2.6 MB 28.7 MB/s eta 0:00:01\r\u001b[K     |███████████████████████████████▏| 2.6 MB 28.7 MB/s eta 0:00:01\r\u001b[K     |███████████████████████████████▎| 2.6 MB 28.7 MB/s eta 0:00:01\r\u001b[K     |███████████████████████████████▍| 2.6 MB 28.7 MB/s eta 0:00:01\r\u001b[K     |███████████████████████████████▌| 2.6 MB 28.7 MB/s eta 0:00:01\r\u001b[K     |███████████████████████████████▊| 2.6 MB 28.7 MB/s eta 0:00:01\r\u001b[K     |███████████████████████████████▉| 2.6 MB 28.7 MB/s eta 0:00:01\r\u001b[K     |████████████████████████████████| 2.6 MB 28.7 MB/s eta 0:00:01\r\u001b[K     |████████████████████████████████| 2.6 MB 28.7 MB/s \n",
            "\u001b[?25hRequirement already satisfied: requests in /usr/local/lib/python3.7/dist-packages (from vncorenlp) (2.23.0)\n",
            "Requirement already satisfied: idna<3,>=2.5 in /usr/local/lib/python3.7/dist-packages (from requests->vncorenlp) (2.10)\n",
            "Requirement already satisfied: urllib3!=1.25.0,!=1.25.1,<1.26,>=1.21.1 in /usr/local/lib/python3.7/dist-packages (from requests->vncorenlp) (1.24.3)\n",
            "Requirement already satisfied: certifi>=2017.4.17 in /usr/local/lib/python3.7/dist-packages (from requests->vncorenlp) (2021.5.30)\n",
            "Requirement already satisfied: chardet<4,>=3.0.2 in /usr/local/lib/python3.7/dist-packages (from requests->vncorenlp) (3.0.4)\n",
            "Building wheels for collected packages: vncorenlp\n",
            "  Building wheel for vncorenlp (setup.py) ... \u001b[?25l\u001b[?25hdone\n",
            "  Created wheel for vncorenlp: filename=vncorenlp-1.0.3-py3-none-any.whl size=2645951 sha256=e926c16f205f7a0debe4d2455bc9653ab85b02a8564e7c6b39d27693ef71137f\n",
            "  Stored in directory: /root/.cache/pip/wheels/0c/d8/f2/d28d97379b4f6479bf51247c8dfd57fa00932fa7a74b6aab29\n",
            "Successfully built vncorenlp\n",
            "Installing collected packages: vncorenlp\n",
            "Successfully installed vncorenlp-1.0.3\n"
          ]
        }
      ]
    },
    {
      "cell_type": "code",
      "metadata": {
        "id": "n-_GyyWJ3_yd"
      },
      "source": [
        "mkdir -p vncorenlp/models/wordsegmenter"
      ],
      "execution_count": 2,
      "outputs": []
    },
    {
      "cell_type": "code",
      "metadata": {
        "colab": {
          "base_uri": "https://localhost:8080/"
        },
        "id": "5Z5Zz85E4EdF",
        "outputId": "d96ab2dc-3af0-4ff6-9287-9a89925c4a78"
      },
      "source": [
        "!wget https://raw.githubusercontent.com/vncorenlp/VnCoreNLP/master/VnCoreNLP-1.1.1.jar\n",
        "!wget https://raw.githubusercontent.com/vncorenlp/VnCoreNLP/master/models/wordsegmenter/vi-vocab\n",
        "!wget https://raw.githubusercontent.com/vncorenlp/VnCoreNLP/master/models/wordsegmenter/wordsegmenter.rdr"
      ],
      "execution_count": 3,
      "outputs": [
        {
          "output_type": "stream",
          "name": "stdout",
          "text": [
            "--2021-10-20 02:44:38--  https://raw.githubusercontent.com/vncorenlp/VnCoreNLP/master/VnCoreNLP-1.1.1.jar\n",
            "Resolving raw.githubusercontent.com (raw.githubusercontent.com)... 185.199.108.133, 185.199.109.133, 185.199.110.133, ...\n",
            "Connecting to raw.githubusercontent.com (raw.githubusercontent.com)|185.199.108.133|:443... connected.\n",
            "HTTP request sent, awaiting response... 200 OK\n",
            "Length: 27412575 (26M) [application/octet-stream]\n",
            "Saving to: ‘VnCoreNLP-1.1.1.jar’\n",
            "\n",
            "VnCoreNLP-1.1.1.jar 100%[===================>]  26.14M  --.-KB/s    in 0.1s    \n",
            "\n",
            "2021-10-20 02:44:39 (197 MB/s) - ‘VnCoreNLP-1.1.1.jar’ saved [27412575/27412575]\n",
            "\n",
            "--2021-10-20 02:44:39--  https://raw.githubusercontent.com/vncorenlp/VnCoreNLP/master/models/wordsegmenter/vi-vocab\n",
            "Resolving raw.githubusercontent.com (raw.githubusercontent.com)... 185.199.108.133, 185.199.109.133, 185.199.110.133, ...\n",
            "Connecting to raw.githubusercontent.com (raw.githubusercontent.com)|185.199.108.133|:443... connected.\n",
            "HTTP request sent, awaiting response... 200 OK\n",
            "Length: 526544 (514K) [application/octet-stream]\n",
            "Saving to: ‘vi-vocab’\n",
            "\n",
            "vi-vocab            100%[===================>] 514.20K  --.-KB/s    in 0.009s  \n",
            "\n",
            "2021-10-20 02:44:39 (58.7 MB/s) - ‘vi-vocab’ saved [526544/526544]\n",
            "\n",
            "--2021-10-20 02:44:39--  https://raw.githubusercontent.com/vncorenlp/VnCoreNLP/master/models/wordsegmenter/wordsegmenter.rdr\n",
            "Resolving raw.githubusercontent.com (raw.githubusercontent.com)... 185.199.108.133, 185.199.109.133, 185.199.110.133, ...\n",
            "Connecting to raw.githubusercontent.com (raw.githubusercontent.com)|185.199.108.133|:443... connected.\n",
            "HTTP request sent, awaiting response... 200 OK\n",
            "Length: 128508 (125K) [text/plain]\n",
            "Saving to: ‘wordsegmenter.rdr’\n",
            "\n",
            "wordsegmenter.rdr   100%[===================>] 125.50K  --.-KB/s    in 0.003s  \n",
            "\n",
            "2021-10-20 02:44:39 (43.9 MB/s) - ‘wordsegmenter.rdr’ saved [128508/128508]\n",
            "\n"
          ]
        }
      ]
    },
    {
      "cell_type": "code",
      "metadata": {
        "id": "ikMJJdhg4gQN"
      },
      "source": [
        "!mv VnCoreNLP-1.1.1.jar vncorenlp/ \n",
        "!mv vi-vocab vncorenlp/models/wordsegmenter/\n",
        "!mv wordsegmenter.rdr vncorenlp/models/wordsegmenter/"
      ],
      "execution_count": 4,
      "outputs": []
    },
    {
      "cell_type": "code",
      "metadata": {
        "id": "pz0RPBhi4ny9"
      },
      "source": [
        "from vncorenlp import VnCoreNLP"
      ],
      "execution_count": 5,
      "outputs": []
    },
    {
      "cell_type": "code",
      "metadata": {
        "id": "05hAWL3q4vAW"
      },
      "source": [
        "rdrsegmenter = VnCoreNLP('vncorenlp/VnCoreNLP-1.1.1.jar', annotators=\"wseg\", max_heap_size='-Xmx500m')"
      ],
      "execution_count": 6,
      "outputs": []
    },
    {
      "cell_type": "code",
      "metadata": {
        "id": "Dh0CqzXx5Lfg"
      },
      "source": [
        "text = \"Cộng hòa Xã hội chủ nghĩa Việt Nam. Độc lập - Tự do - Hạnh phúc\""
      ],
      "execution_count": 7,
      "outputs": []
    },
    {
      "cell_type": "code",
      "metadata": {
        "id": "ARbDyhMC5RWK",
        "colab": {
          "base_uri": "https://localhost:8080/"
        },
        "outputId": "69a4f919-bbed-4a94-e810-b5b3134a1e0f"
      },
      "source": [
        "tokens = rdrsegmenter.tokenize(text) \n",
        "print(tokens)\n",
        "\n",
        "def tokenize(sentence: str):\n",
        "    tokens = rdrsegmenter.tokenize(sentence)\n",
        "    for i in range(len(tokens)):\n",
        "        sentence = tokens[i]\n",
        "        for j in range(len(sentence)):\n",
        "            sentence[j] = sentence[j].split('_')\n",
        "        tokens[i] = sentence\n",
        "    return tokens\n",
        "\n",
        "tokens = tokenize(text)\n",
        "print(tokens)"
      ],
      "execution_count": 8,
      "outputs": [
        {
          "output_type": "stream",
          "name": "stdout",
          "text": [
            "[['Cộng_hoà_Xã_hội_chủ_nghĩa_Việt_Nam', '.'], ['Độc_lập', '-', 'Tự_do', '-', 'Hạnh_phúc']]\n",
            "[[['Cộng', 'hoà', 'Xã', 'hội', 'chủ', 'nghĩa', 'Việt', 'Nam'], ['.']], [['Độc', 'lập'], ['-'], ['Tự', 'do'], ['-'], ['Hạnh', 'phúc']]]\n"
          ]
        }
      ]
    },
    {
      "cell_type": "code",
      "metadata": {
        "id": "mOfujg0Yim01",
        "colab": {
          "base_uri": "https://localhost:8080/"
        },
        "outputId": "04390f7c-b74e-4548-becb-bfc188990af6"
      },
      "source": [
        "tokenize('Báo ảnh Dân tộc và Miền núi')"
      ],
      "execution_count": 9,
      "outputs": [
        {
          "output_type": "execute_result",
          "data": {
            "text/plain": [
              "[[['Báo', 'ảnh'], ['Dân', 'tộc'], ['và'], ['Miền'], ['núi']]]"
            ]
          },
          "metadata": {},
          "execution_count": 9
        }
      ]
    },
    {
      "cell_type": "code",
      "metadata": {
        "colab": {
          "base_uri": "https://localhost:8080/"
        },
        "id": "-CplRiMplnNO",
        "outputId": "66f947eb-b6d3-471f-d80f-6848cbab0d2e"
      },
      "source": [
        "tokenize('Học sinh học sinh học')"
      ],
      "execution_count": 10,
      "outputs": [
        {
          "output_type": "execute_result",
          "data": {
            "text/plain": [
              "[[['Học', 'sinh'], ['học', 'sinh'], ['học']]]"
            ]
          },
          "metadata": {},
          "execution_count": 10
        }
      ]
    }
  ]
}