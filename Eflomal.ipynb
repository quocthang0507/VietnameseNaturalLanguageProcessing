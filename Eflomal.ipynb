{
  "nbformat": 4,
  "nbformat_minor": 0,
  "metadata": {
    "colab": {
      "name": "Eflomal",
      "provenance": [],
      "collapsed_sections": [],
      "authorship_tag": "ABX9TyNwn9wOJn69yiV1eAuLzURs",
      "include_colab_link": true
    },
    "kernelspec": {
      "name": "python3",
      "display_name": "Python 3"
    },
    "language_info": {
      "name": "python"
    }
  },
  "cells": [
    {
      "cell_type": "markdown",
      "metadata": {
        "id": "view-in-github",
        "colab_type": "text"
      },
      "source": [
        "<a href=\"https://colab.research.google.com/github/quocthang0507/VietnameseNaturalLanguageProcessing/blob/main/Eflomal.ipynb\" target=\"_parent\"><img src=\"https://colab.research.google.com/assets/colab-badge.svg\" alt=\"Open In Colab\"/></a>"
      ]
    },
    {
      "cell_type": "markdown",
      "metadata": {
        "id": "n_NzREbhmeiV"
      },
      "source": [
        "Github repo: https://github.com/robertostling/eflomal\n",
        "\n",
        "Citation:\n",
        "\n",
        "```\n",
        "@article{Ostling2016efmaral,\n",
        "  title = {Efficient word alignment with {M}arkov {C}hain {M}onte {C}arlo},\n",
        "  author = {Robert {\\\"O}stling and J{\\\"o}rg Tiedemann},\n",
        "  journal = {Prague Bulletin of Mathematical Linguistics},\n",
        "  year = {2016},\n",
        "  month = {October},\n",
        "  pages = {125--146},\n",
        "  volume = {106},\n",
        "  owner = {robert},\n",
        "  timestamp = {2016.08.26},\n",
        "  url = {http://ufal.mff.cuni.cz/pbml/106/art-ostling-tiedemann.pdf}\n",
        "}\n",
        "```"
      ]
    },
    {
      "cell_type": "code",
      "metadata": {
        "colab": {
          "base_uri": "https://localhost:8080/"
        },
        "id": "xQ_uB3q1lyfr",
        "outputId": "953b25a5-1494-45c9-80c0-8c21727f7b59"
      },
      "source": [
        "!git clone https://github.com/quocthang0507/eflomal.git"
      ],
      "execution_count": 1,
      "outputs": [
        {
          "output_type": "stream",
          "name": "stdout",
          "text": [
            "Cloning into 'eflomal'...\n",
            "remote: Enumerating objects: 302, done.\u001b[K\n",
            "remote: Counting objects: 100% (33/33), done.\u001b[K\n",
            "remote: Compressing objects: 100% (23/23), done.\u001b[K\n",
            "remote: Total 302 (delta 11), reused 0 (delta 0), pack-reused 269\u001b[K\n",
            "Receiving objects: 100% (302/302), 120.94 KiB | 17.28 MiB/s, done.\n",
            "Resolving deltas: 100% (146/146), done.\n"
          ]
        }
      ]
    },
    {
      "cell_type": "code",
      "metadata": {
        "colab": {
          "base_uri": "https://localhost:8080/"
        },
        "id": "C_McTKtAnArp",
        "outputId": "0a6c5d3e-d8c3-47c7-c540-905b1b2c6acf"
      },
      "source": [
        "%cd eflomal"
      ],
      "execution_count": 2,
      "outputs": [
        {
          "output_type": "stream",
          "name": "stdout",
          "text": [
            "/content/eflomal\n"
          ]
        }
      ]
    },
    {
      "cell_type": "code",
      "metadata": {
        "colab": {
          "base_uri": "https://localhost:8080/"
        },
        "id": "R1CGN_TDnEAW",
        "outputId": "bb7a75b8-6039-4aef-d77f-43e18d637ca9"
      },
      "source": [
        "!make"
      ],
      "execution_count": 3,
      "outputs": [
        {
          "output_type": "stream",
          "name": "stdout",
          "text": [
            "cc -Ofast -march=native -Wall --std=gnu99 -Wno-unused-function -g -fopenmp -c eflomal.c\n",
            "\u001b[01m\u001b[Keflomal.c:\u001b[m\u001b[K In function ‘\u001b[01m\u001b[Ktext_alignment_load_priors\u001b[m\u001b[K’:\n",
            "\u001b[01m\u001b[Keflomal.c:858:9:\u001b[m\u001b[K \u001b[01;35m\u001b[Kwarning: \u001b[m\u001b[Kdereferencing type-punned pointer will break strict-aliasing rules [\u001b[01;35m\u001b[K-Wstrict-aliasing\u001b[m\u001b[K]\n",
            "         \u001b[01;35m\u001b[Kmap_token_u32_add\u001b[m\u001b[K(ta->source_prior + e, f, *((uint32_t*)&alpha));\n",
            "         \u001b[01;35m\u001b[K^~~~~~~~~~~~~~~~~\u001b[m\u001b[K\n",
            "In file included from \u001b[01m\u001b[Keflomal.c:53:0\u001b[m\u001b[K:\n",
            "\u001b[01m\u001b[Krandom.c:\u001b[m\u001b[K In function ‘\u001b[01m\u001b[Krandom_system_state\u001b[m\u001b[K’:\n",
            "\u001b[01m\u001b[Krandom.c:73:5:\u001b[m\u001b[K \u001b[01;35m\u001b[Kwarning: \u001b[m\u001b[Kignoring return value of ‘\u001b[01m\u001b[Kfread\u001b[m\u001b[K’, declared with attribute warn_unused_result [\u001b[01;35m\u001b[K-Wunused-result\u001b[m\u001b[K]\n",
            "     \u001b[01;35m\u001b[Kfread(state, sizeof(*state), 1, file)\u001b[m\u001b[K;\n",
            "     \u001b[01;35m\u001b[K^~~~~~~~~~~~~~~~~~~~~~~~~~~~~~~~~~~~~\u001b[m\u001b[K\n",
            "cc -lm -lrt -lgomp -fopenmp  eflomal.o   -o eflomal\n"
          ]
        }
      ]
    },
    {
      "cell_type": "code",
      "metadata": {
        "colab": {
          "base_uri": "https://localhost:8080/"
        },
        "id": "_xbbbEw5nKn5",
        "outputId": "10ed1bf5-e3a5-47a9-ad06-65abc67c23f7"
      },
      "source": [
        "!make install"
      ],
      "execution_count": 4,
      "outputs": [
        {
          "output_type": "stream",
          "name": "stdout",
          "text": [
            "install -t /usr/local/bin eflomal\n"
          ]
        }
      ]
    },
    {
      "cell_type": "code",
      "metadata": {
        "colab": {
          "base_uri": "https://localhost:8080/"
        },
        "id": "J3f-UBNjnXWg",
        "outputId": "910f7d3f-5904-47b9-d04a-9cd6da823115"
      },
      "source": [
        "!python3 setup.py install"
      ],
      "execution_count": 5,
      "outputs": [
        {
          "output_type": "stream",
          "name": "stdout",
          "text": [
            "Compiling python/eflomal/eflomal.pyx because it changed.\n",
            "[1/1] Cythonizing python/eflomal/eflomal.pyx\n",
            "/usr/local/lib/python3.7/dist-packages/Cython/Compiler/Main.py:369: FutureWarning: Cython directive 'language_level' not set, using 2 for now (Py2). This will change in a later release! File: /content/eflomal/python/eflomal/eflomal.pyx\n",
            "  tree = Parsing.p_module(s, pxd, full_module_name)\n",
            "running install\n",
            "running bdist_egg\n",
            "running egg_info\n",
            "creating eflomal.egg-info\n",
            "writing eflomal.egg-info/PKG-INFO\n",
            "writing dependency_links to eflomal.egg-info/dependency_links.txt\n",
            "writing requirements to eflomal.egg-info/requires.txt\n",
            "writing top-level names to eflomal.egg-info/top_level.txt\n",
            "writing manifest file 'eflomal.egg-info/SOURCES.txt'\n",
            "adding license file 'LICENSE'\n",
            "writing manifest file 'eflomal.egg-info/SOURCES.txt'\n",
            "installing library code to build/bdist.linux-x86_64/egg\n",
            "running install_lib\n",
            "running build_ext\n",
            "building 'eflomal' extension\n",
            "creating build\n",
            "creating build/temp.linux-x86_64-3.7\n",
            "creating build/temp.linux-x86_64-3.7/python\n",
            "creating build/temp.linux-x86_64-3.7/python/eflomal\n",
            "x86_64-linux-gnu-gcc -pthread -Wno-unused-result -Wsign-compare -DNDEBUG -g -fwrapv -O2 -Wall -g -fdebug-prefix-map=/build/python3.7-Y7dWVB/python3.7-3.7.12=. -fstack-protector-strong -Wformat -Werror=format-security -g -fdebug-prefix-map=/build/python3.7-Y7dWVB/python3.7-3.7.12=. -fstack-protector-strong -Wformat -Werror=format-security -Wdate-time -D_FORTIFY_SOURCE=2 -fPIC -I/usr/local/lib/python3.7/dist-packages/numpy/core/include -I/usr/include/python3.7m -c python/eflomal/eflomal.c -o build/temp.linux-x86_64-3.7/python/eflomal/eflomal.o\n",
            "In file included from \u001b[01m\u001b[K/usr/local/lib/python3.7/dist-packages/numpy/core/include/numpy/ndarraytypes.h:1822:0\u001b[m\u001b[K,\n",
            "                 from \u001b[01m\u001b[K/usr/local/lib/python3.7/dist-packages/numpy/core/include/numpy/ndarrayobject.h:12\u001b[m\u001b[K,\n",
            "                 from \u001b[01m\u001b[K/usr/local/lib/python3.7/dist-packages/numpy/core/include/numpy/arrayobject.h:4\u001b[m\u001b[K,\n",
            "                 from \u001b[01m\u001b[Kpython/eflomal/eflomal.c:640\u001b[m\u001b[K:\n",
            "\u001b[01m\u001b[K/usr/local/lib/python3.7/dist-packages/numpy/core/include/numpy/npy_1_7_deprecated_api.h:17:2:\u001b[m\u001b[K \u001b[01;35m\u001b[Kwarning: \u001b[m\u001b[K#warning \"Using deprecated NumPy API, disable it with \" \"#define NPY_NO_DEPRECATED_API NPY_1_7_API_VERSION\" [\u001b[01;35m\u001b[K-Wcpp\u001b[m\u001b[K]\n",
            " #\u001b[01;35m\u001b[Kwarning\u001b[m\u001b[K \"Using deprecated NumPy API, disable it with \" \\\n",
            "  \u001b[01;35m\u001b[K^~~~~~~\u001b[m\u001b[K\n",
            "\u001b[01m\u001b[Kpython/eflomal/eflomal.c:\u001b[m\u001b[K In function ‘\u001b[01m\u001b[K__pyx_f_7eflomal_write_text\u001b[m\u001b[K’:\n",
            "\u001b[01m\u001b[Kpython/eflomal/eflomal.c:3603:46:\u001b[m\u001b[K \u001b[01;35m\u001b[Kwarning: \u001b[m\u001b[Kformat ‘\u001b[01m\u001b[K%d\u001b[m\u001b[K’ expects argument of type ‘\u001b[01m\u001b[Kint\u001b[m\u001b[K’, but argument 3 has type ‘\u001b[01m\u001b[KPy_ssize_t {aka long int}\u001b[m\u001b[K’ [\u001b[01;35m\u001b[K-Wformat=\u001b[m\u001b[K]\n",
            "   (void)(fprintf(__pyx_v_f, ((char const *)\"\u001b[01;35m\u001b[K%d\u001b[m\u001b[K %d\\n\"), __pyx_t_5, __pyx_v_voc_size));\n",
            "                                             \u001b[01;35m\u001b[K~^\u001b[m\u001b[K\n",
            "                                             \u001b[32m\u001b[K%ld\u001b[m\u001b[K\n",
            "creating build/lib.linux-x86_64-3.7\n",
            "x86_64-linux-gnu-gcc -pthread -shared -Wl,-O1 -Wl,-Bsymbolic-functions -Wl,-Bsymbolic-functions -Wl,-z,relro -Wl,-Bsymbolic-functions -Wl,-z,relro -g -fdebug-prefix-map=/build/python3.7-Y7dWVB/python3.7-3.7.12=. -fstack-protector-strong -Wformat -Werror=format-security -Wdate-time -D_FORTIFY_SOURCE=2 build/temp.linux-x86_64-3.7/python/eflomal/eflomal.o -o build/lib.linux-x86_64-3.7/eflomal.cpython-37m-x86_64-linux-gnu.so\n",
            "creating build/bdist.linux-x86_64\n",
            "creating build/bdist.linux-x86_64/egg\n",
            "copying build/lib.linux-x86_64-3.7/eflomal.cpython-37m-x86_64-linux-gnu.so -> build/bdist.linux-x86_64/egg\n",
            "creating stub loader for eflomal.cpython-37m-x86_64-linux-gnu.so\n",
            "byte-compiling build/bdist.linux-x86_64/egg/eflomal.py to eflomal.cpython-37.pyc\n",
            "creating build/bdist.linux-x86_64/egg/EGG-INFO\n",
            "copying eflomal.egg-info/PKG-INFO -> build/bdist.linux-x86_64/egg/EGG-INFO\n",
            "copying eflomal.egg-info/SOURCES.txt -> build/bdist.linux-x86_64/egg/EGG-INFO\n",
            "copying eflomal.egg-info/dependency_links.txt -> build/bdist.linux-x86_64/egg/EGG-INFO\n",
            "copying eflomal.egg-info/requires.txt -> build/bdist.linux-x86_64/egg/EGG-INFO\n",
            "copying eflomal.egg-info/top_level.txt -> build/bdist.linux-x86_64/egg/EGG-INFO\n",
            "writing build/bdist.linux-x86_64/egg/EGG-INFO/native_libs.txt\n",
            "zip_safe flag not set; analyzing archive contents...\n",
            "__pycache__.eflomal.cpython-37: module references __file__\n",
            "creating dist\n",
            "creating 'dist/eflomal-0.1-py3.7-linux-x86_64.egg' and adding 'build/bdist.linux-x86_64/egg' to it\n",
            "removing 'build/bdist.linux-x86_64/egg' (and everything under it)\n",
            "Processing eflomal-0.1-py3.7-linux-x86_64.egg\n",
            "creating /usr/local/lib/python3.7/dist-packages/eflomal-0.1-py3.7-linux-x86_64.egg\n",
            "Extracting eflomal-0.1-py3.7-linux-x86_64.egg to /usr/local/lib/python3.7/dist-packages\n",
            "Adding eflomal 0.1 to easy-install.pth file\n",
            "\n",
            "Installed /usr/local/lib/python3.7/dist-packages/eflomal-0.1-py3.7-linux-x86_64.egg\n",
            "Processing dependencies for eflomal==0.1\n",
            "Searching for underthesea\n",
            "Reading https://pypi.org/simple/underthesea/\n",
            "Downloading https://files.pythonhosted.org/packages/46/10/664c6bdf8a5dedd8654fd504f6a45ddb2662fe7c730235c9b0a8b6a39415/underthesea-1.3.3-py3-none-any.whl#sha256=1f57b626411dbe13437846ade49753c78c72006c85d09770c34ae15981b948d4\n",
            "Best match: underthesea 1.3.3\n",
            "Processing underthesea-1.3.3-py3-none-any.whl\n",
            "Installing underthesea-1.3.3-py3-none-any.whl to /usr/local/lib/python3.7/dist-packages\n",
            "Adding underthesea 1.3.3 to easy-install.pth file\n",
            "Installing underthesea script to /usr/local/bin\n",
            "\n",
            "Installed /usr/local/lib/python3.7/dist-packages/underthesea-1.3.3-py3.7.egg\n",
            "Searching for pyvi\n",
            "Reading https://pypi.org/simple/pyvi/\n",
            "Downloading https://files.pythonhosted.org/packages/2c/27/27ffee2663f42430cf3434da963f04224fec157b90799fe9e92a3564c1a6/pyvi-0.1.1-py2.py3-none-any.whl#sha256=e5e9e0e40ea1a556af12646c6b754f065342c86f1dfe84785ba926e1190c0bb7\n",
            "Best match: pyvi 0.1.1\n",
            "Processing pyvi-0.1.1-py2.py3-none-any.whl\n",
            "Installing pyvi-0.1.1-py2.py3-none-any.whl to /usr/local/lib/python3.7/dist-packages\n",
            "Adding pyvi 0.1.1 to easy-install.pth file\n",
            "Installing pyvi script to /usr/local/bin\n",
            "\n",
            "Installed /usr/local/lib/python3.7/dist-packages/pyvi-0.1.1-py3.7.egg\n",
            "Searching for huggingface-hub\n",
            "Reading https://pypi.org/simple/huggingface-hub/\n",
            "Downloading https://files.pythonhosted.org/packages/96/9a/0686eeeea343df547cbacde15c1bd958eb7a3f5c58291b44a0e2aef1c30c/huggingface_hub-0.0.19-py3-none-any.whl#sha256=edcea87cbd709073a63fc911efa2d8fd8304f62cfe43f0bf497dec8eaac10369\n",
            "Best match: huggingface-hub 0.0.19\n",
            "Processing huggingface_hub-0.0.19-py3-none-any.whl\n",
            "Installing huggingface_hub-0.0.19-py3-none-any.whl to /usr/local/lib/python3.7/dist-packages\n",
            "Adding huggingface-hub 0.0.19 to easy-install.pth file\n",
            "Installing huggingface-cli script to /usr/local/bin\n",
            "\n",
            "Installed /usr/local/lib/python3.7/dist-packages/huggingface_hub-0.0.19-py3.7.egg\n",
            "Searching for unidecode\n",
            "Reading https://pypi.org/simple/unidecode/\n",
            "Downloading https://files.pythonhosted.org/packages/e2/3a/3c35e04ea05724f29c77bf5c7a27cf0c80310483655bfdc2c1c5d1ab36b6/Unidecode-1.3.2-py3-none-any.whl#sha256=215fe33c9d1c889fa823ccb66df91b02524eb8cc8c9c80f9c5b8129754d27829\n",
            "Best match: Unidecode 1.3.2\n",
            "Processing Unidecode-1.3.2-py3-none-any.whl\n",
            "Installing Unidecode-1.3.2-py3-none-any.whl to /usr/local/lib/python3.7/dist-packages\n",
            "Adding Unidecode 1.3.2 to easy-install.pth file\n",
            "Installing unidecode script to /usr/local/bin\n",
            "\n",
            "Installed /usr/local/lib/python3.7/dist-packages/Unidecode-1.3.2-py3.7.egg\n",
            "Searching for transformers>=3.5.0\n",
            "Reading https://pypi.org/simple/transformers/\n",
            "Downloading https://files.pythonhosted.org/packages/f7/f3/b8b550dccad29c60e681c5f478a48d61c8f47de28fcaed56d97684ca7438/transformers-4.11.3-py3-none-any.whl#sha256=9750b4e520b4a38a904834bce50d900208c650855e6f671e7718d0edba89f084\n",
            "Best match: transformers 4.11.3\n",
            "Processing transformers-4.11.3-py3-none-any.whl\n",
            "Installing transformers-4.11.3-py3-none-any.whl to /usr/local/lib/python3.7/dist-packages\n",
            "Adding transformers 4.11.3 to easy-install.pth file\n",
            "Installing transformers-cli script to /usr/local/bin\n",
            "\n",
            "Installed /usr/local/lib/python3.7/dist-packages/transformers-4.11.3-py3.7.egg\n",
            "Searching for seqeval\n",
            "Reading https://pypi.org/simple/seqeval/\n",
            "Downloading https://files.pythonhosted.org/packages/9d/2d/233c79d5b4e5ab1dbf111242299153f3caddddbb691219f363ad55ce783d/seqeval-1.2.2.tar.gz#sha256=f28e97c3ab96d6fcd32b648f6438ff2e09cfba87f05939da9b3970713ec56e6f\n",
            "Best match: seqeval 1.2.2\n",
            "Processing seqeval-1.2.2.tar.gz\n",
            "Writing /tmp/easy_install-en8ngfoq/seqeval-1.2.2/setup.cfg\n",
            "Running seqeval-1.2.2/setup.py -q bdist_egg --dist-dir /tmp/easy_install-en8ngfoq/seqeval-1.2.2/egg-dist-tmp-a7nn1cs7\n",
            "listing git files failed - pretending there aren't any\n",
            "zip_safe flag not set; analyzing archive contents...\n",
            "Moving seqeval-1.2.2-py3.7.egg to /usr/local/lib/python3.7/dist-packages\n",
            "Adding seqeval 1.2.2 to easy-install.pth file\n",
            "\n",
            "Installed /usr/local/lib/python3.7/dist-packages/seqeval-1.2.2-py3.7.egg\n",
            "Searching for python-crfsuite>=0.9.6\n",
            "Reading https://pypi.org/simple/python-crfsuite/\n",
            "Downloading https://files.pythonhosted.org/packages/79/47/58f16c46506139f17de4630dbcfb877ce41a6355a1bbf3c443edb9708429/python_crfsuite-0.9.7-cp37-cp37m-manylinux1_x86_64.whl#sha256=0dc0149a62764e7d24d4f1a362f51b02e0283ac2b2469ce7f36666ece0b55855\n",
            "Best match: python-crfsuite 0.9.7\n",
            "Processing python_crfsuite-0.9.7-cp37-cp37m-manylinux1_x86_64.whl\n",
            "Installing python_crfsuite-0.9.7-cp37-cp37m-manylinux1_x86_64.whl to /usr/local/lib/python3.7/dist-packages\n",
            "Adding python-crfsuite 0.9.7 to easy-install.pth file\n",
            "\n",
            "Installed /usr/local/lib/python3.7/dist-packages/python_crfsuite-0.9.7-py3.7-linux-x86_64.egg\n",
            "Searching for sklearn-crfsuite\n",
            "Reading https://pypi.org/simple/sklearn-crfsuite/\n",
            "Downloading https://files.pythonhosted.org/packages/25/74/5b7befa513482e6dee1f3dd68171a6c9dfc14c0eaa00f885ffeba54fe9b0/sklearn_crfsuite-0.3.6-py2.py3-none-any.whl#sha256=6e9a42bc3de96941d5f7262335130955b8c380b1356147622368f385075705d9\n",
            "Best match: sklearn-crfsuite 0.3.6\n",
            "Processing sklearn_crfsuite-0.3.6-py2.py3-none-any.whl\n",
            "Installing sklearn_crfsuite-0.3.6-py2.py3-none-any.whl to /usr/local/lib/python3.7/dist-packages\n",
            "Adding sklearn-crfsuite 0.3.6 to easy-install.pth file\n",
            "\n",
            "Installed /usr/local/lib/python3.7/dist-packages/sklearn_crfsuite-0.3.6-py3.7.egg\n",
            "Searching for tokenizers<0.11,>=0.10.1\n",
            "Reading https://pypi.org/simple/tokenizers/\n",
            "Downloading https://files.pythonhosted.org/packages/d4/e2/df3543e8ffdab68f5acc73f613de9c2b155ac47f162e725dcac87c521c11/tokenizers-0.10.3-cp37-cp37m-manylinux_2_5_x86_64.manylinux1_x86_64.manylinux_2_12_x86_64.manylinux2010_x86_64.whl#sha256=4cc194104c8e427ffc4f54c7866488b42f2b1f6351a6cad0d045ca5ab8108e42\n",
            "Best match: tokenizers 0.10.3\n",
            "Processing tokenizers-0.10.3-cp37-cp37m-manylinux_2_5_x86_64.manylinux1_x86_64.manylinux_2_12_x86_64.manylinux2010_x86_64.whl\n",
            "Installing tokenizers-0.10.3-cp37-cp37m-manylinux_2_5_x86_64.manylinux1_x86_64.manylinux_2_12_x86_64.manylinux2010_x86_64.whl to /usr/local/lib/python3.7/dist-packages\n",
            "Adding tokenizers 0.10.3 to easy-install.pth file\n",
            "\n",
            "Installed /usr/local/lib/python3.7/dist-packages/tokenizers-0.10.3-py3.7-linux-x86_64.egg\n",
            "Searching for sacremoses\n",
            "Reading https://pypi.org/simple/sacremoses/\n",
            "Downloading https://files.pythonhosted.org/packages/36/bf/15f8df78bce5eee8223553123173f010d426565980e457c559a71ecbecc3/sacremoses-0.0.46-py3-none-any.whl#sha256=f95f80d09d3501fed5c1d3056d9212b40599b08cb27f185d38ff0063be8ddd09\n",
            "Best match: sacremoses 0.0.46\n",
            "Processing sacremoses-0.0.46-py3-none-any.whl\n",
            "Installing sacremoses-0.0.46-py3-none-any.whl to /usr/local/lib/python3.7/dist-packages\n",
            "Adding sacremoses 0.0.46 to easy-install.pth file\n",
            "Installing sacremoses script to /usr/local/bin\n",
            "\n",
            "Installed /usr/local/lib/python3.7/dist-packages/sacremoses-0.0.46-py3.7.egg\n",
            "error: PyYAML 3.13 is installed but pyyaml>=5.1 is required by {'transformers'}\n"
          ]
        }
      ]
    },
    {
      "cell_type": "code",
      "metadata": {
        "colab": {
          "base_uri": "https://localhost:8080/"
        },
        "id": "rItLU-zEFXMh",
        "outputId": "86ca2f06-d609-47e4-860e-9d97921caaf2"
      },
      "source": [
        "!eflomal"
      ],
      "execution_count": 6,
      "outputs": [
        {
          "output_type": "stream",
          "name": "stdout",
          "text": [
            "Usage: eflomal [-s source_input] [-t target_input] [-p priors_input] [-f forward_links_output] [-r reverse_links_output] [-S statistics_output] [-F forward_scores_output] [-R reverse_scores_output] [-1 n_IBM1_iters] [-2 n_HMM_iters] [-3 n_fertility_iters] [-n n_samplers] [-N null_prior] [-q] [-M score_model] -m model_type\n"
          ]
        }
      ]
    },
    {
      "cell_type": "code",
      "metadata": {
        "id": "TrYtG3LJokLt"
      },
      "source": [
        "!./align.py -i /content/vi-kho.src-tgt.txt --model 3 -f /content/forward.txt -r /content/reverse.txt -c 1"
      ],
      "execution_count": 7,
      "outputs": []
    }
  ]
}