{
  "nbformat": 4,
  "nbformat_minor": 0,
  "metadata": {
    "colab": {
      "name": "eflomal",
      "provenance": [],
      "authorship_tag": "ABX9TyP6DGoTxBfnIx1Rd8mDKnMw",
      "include_colab_link": true
    },
    "kernelspec": {
      "name": "python3",
      "display_name": "Python 3"
    },
    "language_info": {
      "name": "python"
    }
  },
  "cells": [
    {
      "cell_type": "markdown",
      "metadata": {
        "id": "view-in-github",
        "colab_type": "text"
      },
      "source": [
        "<a href=\"https://colab.research.google.com/github/quocthang0507/VietnameseNaturalLanguageProcessing/blob/main/eflomal.ipynb\" target=\"_parent\"><img src=\"https://colab.research.google.com/assets/colab-badge.svg\" alt=\"Open In Colab\"/></a>"
      ]
    },
    {
      "cell_type": "markdown",
      "metadata": {
        "id": "n_NzREbhmeiV"
      },
      "source": [
        "Github repo: https://github.com/robertostling/eflomal\n",
        "\n",
        "Citation:\n",
        "\n",
        "```\n",
        "@article{Ostling2016efmaral,\n",
        "  title = {Efficient word alignment with {M}arkov {C}hain {M}onte {C}arlo},\n",
        "  author = {Robert {\\\"O}stling and J{\\\"o}rg Tiedemann},\n",
        "  journal = {Prague Bulletin of Mathematical Linguistics},\n",
        "  year = {2016},\n",
        "  month = {October},\n",
        "  pages = {125--146},\n",
        "  volume = {106},\n",
        "  owner = {robert},\n",
        "  timestamp = {2016.08.26},\n",
        "  url = {http://ufal.mff.cuni.cz/pbml/106/art-ostling-tiedemann.pdf}\n",
        "}\n",
        "```"
      ]
    },
    {
      "cell_type": "code",
      "metadata": {
        "colab": {
          "base_uri": "https://localhost:8080/"
        },
        "id": "xQ_uB3q1lyfr",
        "outputId": "5640594a-7080-4cce-f0f2-55909126c0aa"
      },
      "source": [
        "!git clone https://github.com/robertostling/eflomal.git"
      ],
      "execution_count": 1,
      "outputs": [
        {
          "output_type": "stream",
          "name": "stdout",
          "text": [
            "Cloning into 'eflomal'...\n",
            "remote: Enumerating objects: 269, done.\u001b[K\n",
            "remote: Total 269 (delta 0), reused 0 (delta 0), pack-reused 269\u001b[K\n",
            "Receiving objects: 100% (269/269), 109.65 KiB | 649.00 KiB/s, done.\n",
            "Resolving deltas: 100% (135/135), done.\n"
          ]
        }
      ]
    },
    {
      "cell_type": "code",
      "metadata": {
        "colab": {
          "base_uri": "https://localhost:8080/"
        },
        "id": "C_McTKtAnArp",
        "outputId": "6d59cd1b-969b-480e-fbc7-1600d77f3436"
      },
      "source": [
        "%cd eflomal"
      ],
      "execution_count": 2,
      "outputs": [
        {
          "output_type": "stream",
          "name": "stdout",
          "text": [
            "/content/eflomal\n"
          ]
        }
      ]
    },
    {
      "cell_type": "code",
      "metadata": {
        "colab": {
          "base_uri": "https://localhost:8080/"
        },
        "id": "R1CGN_TDnEAW",
        "outputId": "bf229cb6-6d53-46a1-c4ba-75cb37c69242"
      },
      "source": [
        "!make"
      ],
      "execution_count": 3,
      "outputs": [
        {
          "output_type": "stream",
          "name": "stdout",
          "text": [
            "cc -Ofast -march=native -Wall --std=gnu99 -Wno-unused-function -g -fopenmp -c eflomal.c\n",
            "\u001b[01m\u001b[Keflomal.c:\u001b[m\u001b[K In function ‘\u001b[01m\u001b[Ktext_alignment_load_priors\u001b[m\u001b[K’:\n",
            "\u001b[01m\u001b[Keflomal.c:858:9:\u001b[m\u001b[K \u001b[01;35m\u001b[Kwarning: \u001b[m\u001b[Kdereferencing type-punned pointer will break strict-aliasing rules [\u001b[01;35m\u001b[K-Wstrict-aliasing\u001b[m\u001b[K]\n",
            "         \u001b[01;35m\u001b[Kmap_token_u32_add\u001b[m\u001b[K(ta->source_prior + e, f, *((uint32_t*)&alpha));\n",
            "         \u001b[01;35m\u001b[K^~~~~~~~~~~~~~~~~\u001b[m\u001b[K\n",
            "In file included from \u001b[01m\u001b[Keflomal.c:53:0\u001b[m\u001b[K:\n",
            "\u001b[01m\u001b[Krandom.c:\u001b[m\u001b[K In function ‘\u001b[01m\u001b[Krandom_system_state\u001b[m\u001b[K’:\n",
            "\u001b[01m\u001b[Krandom.c:73:5:\u001b[m\u001b[K \u001b[01;35m\u001b[Kwarning: \u001b[m\u001b[Kignoring return value of ‘\u001b[01m\u001b[Kfread\u001b[m\u001b[K’, declared with attribute warn_unused_result [\u001b[01;35m\u001b[K-Wunused-result\u001b[m\u001b[K]\n",
            "     \u001b[01;35m\u001b[Kfread(state, sizeof(*state), 1, file)\u001b[m\u001b[K;\n",
            "     \u001b[01;35m\u001b[K^~~~~~~~~~~~~~~~~~~~~~~~~~~~~~~~~~~~~\u001b[m\u001b[K\n",
            "cc -lm -lrt -lgomp -fopenmp  eflomal.o   -o eflomal\n"
          ]
        }
      ]
    },
    {
      "cell_type": "code",
      "metadata": {
        "colab": {
          "base_uri": "https://localhost:8080/"
        },
        "id": "_xbbbEw5nKn5",
        "outputId": "945722e6-b965-4b5f-d9c2-f91179ad1ad1"
      },
      "source": [
        "!make install"
      ],
      "execution_count": 4,
      "outputs": [
        {
          "output_type": "stream",
          "name": "stdout",
          "text": [
            "install -t /usr/local/bin eflomal\n"
          ]
        }
      ]
    },
    {
      "cell_type": "code",
      "metadata": {
        "colab": {
          "base_uri": "https://localhost:8080/"
        },
        "id": "J3f-UBNjnXWg",
        "outputId": "3feffe72-cc99-46ad-9d01-40d5b621a38d"
      },
      "source": [
        "!python3 setup.py install"
      ],
      "execution_count": 6,
      "outputs": [
        {
          "output_type": "stream",
          "name": "stdout",
          "text": [
            "Compiling python/eflomal/eflomal.pyx because it changed.\n",
            "[1/1] Cythonizing python/eflomal/eflomal.pyx\n",
            "/usr/local/lib/python3.7/dist-packages/Cython/Compiler/Main.py:369: FutureWarning: Cython directive 'language_level' not set, using 2 for now (Py2). This will change in a later release! File: /content/eflomal/python/eflomal/eflomal.pyx\n",
            "  tree = Parsing.p_module(s, pxd, full_module_name)\n",
            "running install\n",
            "running bdist_egg\n",
            "running egg_info\n",
            "creating eflomal.egg-info\n",
            "writing eflomal.egg-info/PKG-INFO\n",
            "writing dependency_links to eflomal.egg-info/dependency_links.txt\n",
            "writing requirements to eflomal.egg-info/requires.txt\n",
            "writing top-level names to eflomal.egg-info/top_level.txt\n",
            "writing manifest file 'eflomal.egg-info/SOURCES.txt'\n",
            "adding license file 'LICENSE'\n",
            "writing manifest file 'eflomal.egg-info/SOURCES.txt'\n",
            "installing library code to build/bdist.linux-x86_64/egg\n",
            "running install_lib\n",
            "running build_ext\n",
            "building 'eflomal' extension\n",
            "creating build\n",
            "creating build/temp.linux-x86_64-3.7\n",
            "creating build/temp.linux-x86_64-3.7/python\n",
            "creating build/temp.linux-x86_64-3.7/python/eflomal\n",
            "x86_64-linux-gnu-gcc -pthread -Wno-unused-result -Wsign-compare -DNDEBUG -g -fwrapv -O2 -Wall -g -fdebug-prefix-map=/build/python3.7-LSlbJj/python3.7-3.7.11=. -fstack-protector-strong -Wformat -Werror=format-security -g -fdebug-prefix-map=/build/python3.7-LSlbJj/python3.7-3.7.11=. -fstack-protector-strong -Wformat -Werror=format-security -Wdate-time -D_FORTIFY_SOURCE=2 -fPIC -I/usr/local/lib/python3.7/dist-packages/numpy/core/include -I/usr/include/python3.7m -c python/eflomal/eflomal.c -o build/temp.linux-x86_64-3.7/python/eflomal/eflomal.o\n",
            "In file included from \u001b[01m\u001b[K/usr/local/lib/python3.7/dist-packages/numpy/core/include/numpy/ndarraytypes.h:1822:0\u001b[m\u001b[K,\n",
            "                 from \u001b[01m\u001b[K/usr/local/lib/python3.7/dist-packages/numpy/core/include/numpy/ndarrayobject.h:12\u001b[m\u001b[K,\n",
            "                 from \u001b[01m\u001b[K/usr/local/lib/python3.7/dist-packages/numpy/core/include/numpy/arrayobject.h:4\u001b[m\u001b[K,\n",
            "                 from \u001b[01m\u001b[Kpython/eflomal/eflomal.c:640\u001b[m\u001b[K:\n",
            "\u001b[01m\u001b[K/usr/local/lib/python3.7/dist-packages/numpy/core/include/numpy/npy_1_7_deprecated_api.h:17:2:\u001b[m\u001b[K \u001b[01;35m\u001b[Kwarning: \u001b[m\u001b[K#warning \"Using deprecated NumPy API, disable it with \" \"#define NPY_NO_DEPRECATED_API NPY_1_7_API_VERSION\" [\u001b[01;35m\u001b[K-Wcpp\u001b[m\u001b[K]\n",
            " #\u001b[01;35m\u001b[Kwarning\u001b[m\u001b[K \"Using deprecated NumPy API, disable it with \" \\\n",
            "  \u001b[01;35m\u001b[K^~~~~~~\u001b[m\u001b[K\n",
            "\u001b[01m\u001b[Kpython/eflomal/eflomal.c:\u001b[m\u001b[K In function ‘\u001b[01m\u001b[K__pyx_f_7eflomal_write_text\u001b[m\u001b[K’:\n",
            "\u001b[01m\u001b[Kpython/eflomal/eflomal.c:2839:46:\u001b[m\u001b[K \u001b[01;35m\u001b[Kwarning: \u001b[m\u001b[Kformat ‘\u001b[01m\u001b[K%d\u001b[m\u001b[K’ expects argument of type ‘\u001b[01m\u001b[Kint\u001b[m\u001b[K’, but argument 3 has type ‘\u001b[01m\u001b[KPy_ssize_t {aka long int}\u001b[m\u001b[K’ [\u001b[01;35m\u001b[K-Wformat=\u001b[m\u001b[K]\n",
            "   (void)(fprintf(__pyx_v_f, ((char const *)\"\u001b[01;35m\u001b[K%d\u001b[m\u001b[K %d\\n\"), __pyx_t_5, __pyx_v_voc_size));\n",
            "                                             \u001b[01;35m\u001b[K~^\u001b[m\u001b[K\n",
            "                                             \u001b[32m\u001b[K%ld\u001b[m\u001b[K\n",
            "creating build/lib.linux-x86_64-3.7\n",
            "x86_64-linux-gnu-gcc -pthread -shared -Wl,-O1 -Wl,-Bsymbolic-functions -Wl,-Bsymbolic-functions -Wl,-z,relro -Wl,-Bsymbolic-functions -Wl,-z,relro -g -fdebug-prefix-map=/build/python3.7-LSlbJj/python3.7-3.7.11=. -fstack-protector-strong -Wformat -Werror=format-security -Wdate-time -D_FORTIFY_SOURCE=2 build/temp.linux-x86_64-3.7/python/eflomal/eflomal.o -o build/lib.linux-x86_64-3.7/eflomal.cpython-37m-x86_64-linux-gnu.so\n",
            "creating build/bdist.linux-x86_64\n",
            "creating build/bdist.linux-x86_64/egg\n",
            "copying build/lib.linux-x86_64-3.7/eflomal.cpython-37m-x86_64-linux-gnu.so -> build/bdist.linux-x86_64/egg\n",
            "creating stub loader for eflomal.cpython-37m-x86_64-linux-gnu.so\n",
            "byte-compiling build/bdist.linux-x86_64/egg/eflomal.py to eflomal.cpython-37.pyc\n",
            "creating build/bdist.linux-x86_64/egg/EGG-INFO\n",
            "copying eflomal.egg-info/PKG-INFO -> build/bdist.linux-x86_64/egg/EGG-INFO\n",
            "copying eflomal.egg-info/SOURCES.txt -> build/bdist.linux-x86_64/egg/EGG-INFO\n",
            "copying eflomal.egg-info/dependency_links.txt -> build/bdist.linux-x86_64/egg/EGG-INFO\n",
            "copying eflomal.egg-info/requires.txt -> build/bdist.linux-x86_64/egg/EGG-INFO\n",
            "copying eflomal.egg-info/top_level.txt -> build/bdist.linux-x86_64/egg/EGG-INFO\n",
            "writing build/bdist.linux-x86_64/egg/EGG-INFO/native_libs.txt\n",
            "zip_safe flag not set; analyzing archive contents...\n",
            "__pycache__.eflomal.cpython-37: module references __file__\n",
            "creating dist\n",
            "creating 'dist/eflomal-0.1-py3.7-linux-x86_64.egg' and adding 'build/bdist.linux-x86_64/egg' to it\n",
            "removing 'build/bdist.linux-x86_64/egg' (and everything under it)\n",
            "Processing eflomal-0.1-py3.7-linux-x86_64.egg\n",
            "creating /usr/local/lib/python3.7/dist-packages/eflomal-0.1-py3.7-linux-x86_64.egg\n",
            "Extracting eflomal-0.1-py3.7-linux-x86_64.egg to /usr/local/lib/python3.7/dist-packages\n",
            "Adding eflomal 0.1 to easy-install.pth file\n",
            "\n",
            "Installed /usr/local/lib/python3.7/dist-packages/eflomal-0.1-py3.7-linux-x86_64.egg\n",
            "Processing dependencies for eflomal==0.1\n",
            "Searching for numpy==1.19.5\n",
            "Best match: numpy 1.19.5\n",
            "Adding numpy 1.19.5 to easy-install.pth file\n",
            "Installing f2py script to /usr/local/bin\n",
            "Installing f2py3 script to /usr/local/bin\n",
            "Installing f2py3.7 script to /usr/local/bin\n",
            "\n",
            "Using /usr/local/lib/python3.7/dist-packages\n",
            "Finished processing dependencies for eflomal==0.1\n"
          ]
        }
      ]
    },
    {
      "cell_type": "code",
      "metadata": {
        "colab": {
          "base_uri": "https://localhost:8080/"
        },
        "id": "DYZ2tHTQnlNM",
        "outputId": "6fdee2fe-b158-4178-8bdd-dc469d023c14"
      },
      "source": [
        "!eflomal"
      ],
      "execution_count": 9,
      "outputs": [
        {
          "output_type": "stream",
          "name": "stdout",
          "text": [
            "Usage: eflomal [-s source_input] [-t target_input] [-p priors_input] [-f forward_links_output] [-r reverse_links_output] [-S statistics_output] [-F forward_scores_output] [-R reverse_scores_output] [-1 n_IBM1_iters] [-2 n_HMM_iters] [-3 n_fertility_iters] [-n n_samplers] [-N null_prior] [-q] [-M score_model] -m model_type\n"
          ]
        }
      ]
    },
    {
      "cell_type": "code",
      "metadata": {
        "colab": {
          "base_uri": "https://localhost:8080/"
        },
        "id": "FpEFFF_YozL5",
        "outputId": "ba60b5b7-5945-4d9f-bae1-71c8da00f80d"
      },
      "source": [
        "!./align.py"
      ],
      "execution_count": 12,
      "outputs": [
        {
          "output_type": "stream",
          "name": "stdout",
          "text": [
            "ERROR: need to specify either -s and -t, or -i\n"
          ]
        }
      ]
    },
    {
      "cell_type": "code",
      "metadata": {
        "colab": {
          "base_uri": "https://localhost:8080/"
        },
        "id": "WxKvKRppTxOB",
        "outputId": "179f4c49-84c1-4e07-eba2-987738c263fd"
      },
      "source": [
        "!wget https://raw.githubusercontent.com/quocthang0507/VietnameseKHoPreprocessing/master/vi-kho.src-tgt.txt"
      ],
      "execution_count": 10,
      "outputs": [
        {
          "output_type": "stream",
          "name": "stdout",
          "text": [
            "--2021-09-03 12:28:54--  https://raw.githubusercontent.com/quocthang0507/VietnameseKHoPreprocessing/master/vi-kho.src-tgt.txt\n",
            "Resolving raw.githubusercontent.com (raw.githubusercontent.com)... 185.199.108.133, 185.199.109.133, 185.199.110.133, ...\n",
            "Connecting to raw.githubusercontent.com (raw.githubusercontent.com)|185.199.108.133|:443... connected.\n",
            "HTTP request sent, awaiting response... 200 OK\n",
            "Length: 1393143 (1.3M) [text/plain]\n",
            "Saving to: ‘vi-kho.src-tgt.txt’\n",
            "\n",
            "vi-kho.src-tgt.txt  100%[===================>]   1.33M  --.-KB/s    in 0.07s   \n",
            "\n",
            "2021-09-03 12:28:55 (18.9 MB/s) - ‘vi-kho.src-tgt.txt’ saved [1393143/1393143]\n",
            "\n"
          ]
        }
      ]
    },
    {
      "cell_type": "code",
      "metadata": {
        "id": "TrYtG3LJokLt"
      },
      "source": [
        "!./align.py -i vi-kho.src-tgt.txt --model 3 -f forward.txt -r reverse.txt"
      ],
      "execution_count": 13,
      "outputs": []
    }
  ]
}